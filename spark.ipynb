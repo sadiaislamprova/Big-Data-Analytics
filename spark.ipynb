{
  "nbformat": 4,
  "nbformat_minor": 0,
  "metadata": {
    "colab": {
      "provenance": []
    },
    "kernelspec": {
      "name": "python3",
      "display_name": "Python 3"
    },
    "language_info": {
      "name": "python"
    }
  },
  "cells": [
    {
      "cell_type": "code",
      "execution_count": null,
      "metadata": {
        "colab": {
          "base_uri": "https://localhost:8080/"
        },
        "id": "G7_7kNcXmTqi",
        "outputId": "0cf66560-a73c-4435-9194-087f10dbcb68"
      },
      "outputs": [
        {
          "output_type": "stream",
          "name": "stdout",
          "text": [
            "Requirement already satisfied: pyspark in /usr/local/lib/python3.10/dist-packages (3.5.3)\n",
            "Requirement already satisfied: py4j==0.10.9.7 in /usr/local/lib/python3.10/dist-packages (from pyspark) (0.10.9.7)\n",
            "\u001b[2K   \u001b[90m━━━━━━━━━━━━━━━━━━━━━━━━━━━━━━━━━━━━━━━━\u001b[0m \u001b[32m48.0/48.0 kB\u001b[0m \u001b[31m2.5 MB/s\u001b[0m eta \u001b[36m0:00:00\u001b[0m\n",
            "\u001b[?25hThe following additional packages will be installed:\n",
            "  libxtst6 openjdk-8-jre-headless\n",
            "Suggested packages:\n",
            "  openjdk-8-demo openjdk-8-source libnss-mdns fonts-dejavu-extra fonts-nanum fonts-ipafont-gothic\n",
            "  fonts-ipafont-mincho fonts-wqy-microhei fonts-wqy-zenhei fonts-indic\n",
            "The following NEW packages will be installed:\n",
            "  libxtst6 openjdk-8-jdk-headless openjdk-8-jre-headless\n",
            "0 upgraded, 3 newly installed, 0 to remove and 49 not upgraded.\n",
            "Need to get 39.7 MB of archives.\n",
            "After this operation, 144 MB of additional disk space will be used.\n",
            "Selecting previously unselected package libxtst6:amd64.\n",
            "(Reading database ... 123632 files and directories currently installed.)\n",
            "Preparing to unpack .../libxtst6_2%3a1.2.3-1build4_amd64.deb ...\n",
            "Unpacking libxtst6:amd64 (2:1.2.3-1build4) ...\n",
            "Selecting previously unselected package openjdk-8-jre-headless:amd64.\n",
            "Preparing to unpack .../openjdk-8-jre-headless_8u432-ga~us1-0ubuntu2~22.04_amd64.deb ...\n",
            "Unpacking openjdk-8-jre-headless:amd64 (8u432-ga~us1-0ubuntu2~22.04) ...\n",
            "Selecting previously unselected package openjdk-8-jdk-headless:amd64.\n",
            "Preparing to unpack .../openjdk-8-jdk-headless_8u432-ga~us1-0ubuntu2~22.04_amd64.deb ...\n",
            "Unpacking openjdk-8-jdk-headless:amd64 (8u432-ga~us1-0ubuntu2~22.04) ...\n",
            "Setting up libxtst6:amd64 (2:1.2.3-1build4) ...\n",
            "Setting up openjdk-8-jre-headless:amd64 (8u432-ga~us1-0ubuntu2~22.04) ...\n",
            "update-alternatives: using /usr/lib/jvm/java-8-openjdk-amd64/jre/bin/orbd to provide /usr/bin/orbd (orbd) in auto mode\n",
            "update-alternatives: using /usr/lib/jvm/java-8-openjdk-amd64/jre/bin/servertool to provide /usr/bin/servertool (servertool) in auto mode\n",
            "update-alternatives: using /usr/lib/jvm/java-8-openjdk-amd64/jre/bin/tnameserv to provide /usr/bin/tnameserv (tnameserv) in auto mode\n",
            "Setting up openjdk-8-jdk-headless:amd64 (8u432-ga~us1-0ubuntu2~22.04) ...\n",
            "update-alternatives: using /usr/lib/jvm/java-8-openjdk-amd64/bin/clhsdb to provide /usr/bin/clhsdb (clhsdb) in auto mode\n",
            "update-alternatives: using /usr/lib/jvm/java-8-openjdk-amd64/bin/extcheck to provide /usr/bin/extcheck (extcheck) in auto mode\n",
            "update-alternatives: using /usr/lib/jvm/java-8-openjdk-amd64/bin/hsdb to provide /usr/bin/hsdb (hsdb) in auto mode\n",
            "update-alternatives: using /usr/lib/jvm/java-8-openjdk-amd64/bin/idlj to provide /usr/bin/idlj (idlj) in auto mode\n",
            "update-alternatives: using /usr/lib/jvm/java-8-openjdk-amd64/bin/javah to provide /usr/bin/javah (javah) in auto mode\n",
            "update-alternatives: using /usr/lib/jvm/java-8-openjdk-amd64/bin/jhat to provide /usr/bin/jhat (jhat) in auto mode\n",
            "update-alternatives: using /usr/lib/jvm/java-8-openjdk-amd64/bin/jsadebugd to provide /usr/bin/jsadebugd (jsadebugd) in auto mode\n",
            "update-alternatives: using /usr/lib/jvm/java-8-openjdk-amd64/bin/native2ascii to provide /usr/bin/native2ascii (native2ascii) in auto mode\n",
            "update-alternatives: using /usr/lib/jvm/java-8-openjdk-amd64/bin/schemagen to provide /usr/bin/schemagen (schemagen) in auto mode\n",
            "update-alternatives: using /usr/lib/jvm/java-8-openjdk-amd64/bin/wsgen to provide /usr/bin/wsgen (wsgen) in auto mode\n",
            "update-alternatives: using /usr/lib/jvm/java-8-openjdk-amd64/bin/wsimport to provide /usr/bin/wsimport (wsimport) in auto mode\n",
            "update-alternatives: using /usr/lib/jvm/java-8-openjdk-amd64/bin/xjc to provide /usr/bin/xjc (xjc) in auto mode\n",
            "Processing triggers for libc-bin (2.35-0ubuntu3.4) ...\n",
            "/sbin/ldconfig.real: /usr/local/lib/libtcm_debug.so.1 is not a symbolic link\n",
            "\n",
            "/sbin/ldconfig.real: /usr/local/lib/libtbbmalloc_proxy.so.2 is not a symbolic link\n",
            "\n",
            "/sbin/ldconfig.real: /usr/local/lib/libtbbmalloc.so.2 is not a symbolic link\n",
            "\n",
            "/sbin/ldconfig.real: /usr/local/lib/libtbb.so.12 is not a symbolic link\n",
            "\n",
            "/sbin/ldconfig.real: /usr/local/lib/libur_adapter_level_zero.so.0 is not a symbolic link\n",
            "\n",
            "/sbin/ldconfig.real: /usr/local/lib/libtbbbind_2_5.so.3 is not a symbolic link\n",
            "\n",
            "/sbin/ldconfig.real: /usr/local/lib/libtbbbind_2_0.so.3 is not a symbolic link\n",
            "\n",
            "/sbin/ldconfig.real: /usr/local/lib/libur_loader.so.0 is not a symbolic link\n",
            "\n",
            "/sbin/ldconfig.real: /usr/local/lib/libur_adapter_opencl.so.0 is not a symbolic link\n",
            "\n",
            "/sbin/ldconfig.real: /usr/local/lib/libtbbbind.so.3 is not a symbolic link\n",
            "\n",
            "/sbin/ldconfig.real: /usr/local/lib/libhwloc.so.15 is not a symbolic link\n",
            "\n",
            "/sbin/ldconfig.real: /usr/local/lib/libumf.so.0 is not a symbolic link\n",
            "\n",
            "/sbin/ldconfig.real: /usr/local/lib/libtcm.so.1 is not a symbolic link\n",
            "\n"
          ]
        }
      ],
      "source": [
        "!pip install pyspark\n",
        "!pip install -U -q PyDrive2\n",
        "!apt install openjdk-8-jdk-headless -qq\n",
        "import os\n",
        "os.environ[\"JAVA_HOME\"] = \"/usr/lib/jvm/java-8-openjdk-amd64\""
      ]
    },
    {
      "cell_type": "code",
      "source": [
        "!pip install pydrive2 oauth2client\n"
      ],
      "metadata": {
        "colab": {
          "base_uri": "https://localhost:8080/"
        },
        "id": "V_YSNbHNqUjC",
        "outputId": "9030639a-15a9-4434-dc89-7eecad7a8c56"
      },
      "execution_count": null,
      "outputs": [
        {
          "output_type": "stream",
          "name": "stdout",
          "text": [
            "Requirement already satisfied: pydrive2 in /usr/local/lib/python3.10/dist-packages (1.21.3)\n",
            "Requirement already satisfied: oauth2client in /usr/local/lib/python3.10/dist-packages (4.1.3)\n",
            "Requirement already satisfied: google-api-python-client>=1.12.5 in /usr/local/lib/python3.10/dist-packages (from pydrive2) (2.151.0)\n",
            "Requirement already satisfied: PyYAML>=3.0 in /usr/local/lib/python3.10/dist-packages (from pydrive2) (6.0.2)\n",
            "Requirement already satisfied: cryptography<44 in /usr/local/lib/python3.10/dist-packages (from pydrive2) (43.0.3)\n",
            "Requirement already satisfied: pyOpenSSL<=24.2.1,>=19.1.0 in /usr/local/lib/python3.10/dist-packages (from pydrive2) (24.2.1)\n",
            "Requirement already satisfied: httplib2>=0.9.1 in /usr/local/lib/python3.10/dist-packages (from oauth2client) (0.22.0)\n",
            "Requirement already satisfied: pyasn1>=0.1.7 in /usr/local/lib/python3.10/dist-packages (from oauth2client) (0.6.1)\n",
            "Requirement already satisfied: pyasn1-modules>=0.0.5 in /usr/local/lib/python3.10/dist-packages (from oauth2client) (0.4.1)\n",
            "Requirement already satisfied: rsa>=3.1.4 in /usr/local/lib/python3.10/dist-packages (from oauth2client) (4.9)\n",
            "Requirement already satisfied: six>=1.6.1 in /usr/local/lib/python3.10/dist-packages (from oauth2client) (1.16.0)\n",
            "Requirement already satisfied: cffi>=1.12 in /usr/local/lib/python3.10/dist-packages (from cryptography<44->pydrive2) (1.17.1)\n",
            "Requirement already satisfied: google-auth!=2.24.0,!=2.25.0,<3.0.0.dev0,>=1.32.0 in /usr/local/lib/python3.10/dist-packages (from google-api-python-client>=1.12.5->pydrive2) (2.27.0)\n",
            "Requirement already satisfied: google-auth-httplib2<1.0.0,>=0.2.0 in /usr/local/lib/python3.10/dist-packages (from google-api-python-client>=1.12.5->pydrive2) (0.2.0)\n",
            "Requirement already satisfied: google-api-core!=2.0.*,!=2.1.*,!=2.2.*,!=2.3.0,<3.0.0.dev0,>=1.31.5 in /usr/local/lib/python3.10/dist-packages (from google-api-python-client>=1.12.5->pydrive2) (2.19.2)\n",
            "Requirement already satisfied: uritemplate<5,>=3.0.1 in /usr/local/lib/python3.10/dist-packages (from google-api-python-client>=1.12.5->pydrive2) (4.1.1)\n",
            "Requirement already satisfied: pyparsing!=3.0.0,!=3.0.1,!=3.0.2,!=3.0.3,<4,>=2.4.2 in /usr/local/lib/python3.10/dist-packages (from httplib2>=0.9.1->oauth2client) (3.2.0)\n",
            "Requirement already satisfied: pycparser in /usr/local/lib/python3.10/dist-packages (from cffi>=1.12->cryptography<44->pydrive2) (2.22)\n",
            "Requirement already satisfied: googleapis-common-protos<2.0.dev0,>=1.56.2 in /usr/local/lib/python3.10/dist-packages (from google-api-core!=2.0.*,!=2.1.*,!=2.2.*,!=2.3.0,<3.0.0.dev0,>=1.31.5->google-api-python-client>=1.12.5->pydrive2) (1.66.0)\n",
            "Requirement already satisfied: protobuf!=3.20.0,!=3.20.1,!=4.21.0,!=4.21.1,!=4.21.2,!=4.21.3,!=4.21.4,!=4.21.5,<6.0.0.dev0,>=3.19.5 in /usr/local/lib/python3.10/dist-packages (from google-api-core!=2.0.*,!=2.1.*,!=2.2.*,!=2.3.0,<3.0.0.dev0,>=1.31.5->google-api-python-client>=1.12.5->pydrive2) (4.25.5)\n",
            "Requirement already satisfied: proto-plus<2.0.0dev,>=1.22.3 in /usr/local/lib/python3.10/dist-packages (from google-api-core!=2.0.*,!=2.1.*,!=2.2.*,!=2.3.0,<3.0.0.dev0,>=1.31.5->google-api-python-client>=1.12.5->pydrive2) (1.25.0)\n",
            "Requirement already satisfied: requests<3.0.0.dev0,>=2.18.0 in /usr/local/lib/python3.10/dist-packages (from google-api-core!=2.0.*,!=2.1.*,!=2.2.*,!=2.3.0,<3.0.0.dev0,>=1.31.5->google-api-python-client>=1.12.5->pydrive2) (2.32.3)\n",
            "Requirement already satisfied: cachetools<6.0,>=2.0.0 in /usr/local/lib/python3.10/dist-packages (from google-auth!=2.24.0,!=2.25.0,<3.0.0.dev0,>=1.32.0->google-api-python-client>=1.12.5->pydrive2) (5.5.0)\n",
            "Requirement already satisfied: charset-normalizer<4,>=2 in /usr/local/lib/python3.10/dist-packages (from requests<3.0.0.dev0,>=2.18.0->google-api-core!=2.0.*,!=2.1.*,!=2.2.*,!=2.3.0,<3.0.0.dev0,>=1.31.5->google-api-python-client>=1.12.5->pydrive2) (3.4.0)\n",
            "Requirement already satisfied: idna<4,>=2.5 in /usr/local/lib/python3.10/dist-packages (from requests<3.0.0.dev0,>=2.18.0->google-api-core!=2.0.*,!=2.1.*,!=2.2.*,!=2.3.0,<3.0.0.dev0,>=1.31.5->google-api-python-client>=1.12.5->pydrive2) (3.10)\n",
            "Requirement already satisfied: urllib3<3,>=1.21.1 in /usr/local/lib/python3.10/dist-packages (from requests<3.0.0.dev0,>=2.18.0->google-api-core!=2.0.*,!=2.1.*,!=2.2.*,!=2.3.0,<3.0.0.dev0,>=1.31.5->google-api-python-client>=1.12.5->pydrive2) (2.2.3)\n",
            "Requirement already satisfied: certifi>=2017.4.17 in /usr/local/lib/python3.10/dist-packages (from requests<3.0.0.dev0,>=2.18.0->google-api-core!=2.0.*,!=2.1.*,!=2.2.*,!=2.3.0,<3.0.0.dev0,>=1.31.5->google-api-python-client>=1.12.5->pydrive2) (2024.8.30)\n"
          ]
        }
      ]
    },
    {
      "cell_type": "code",
      "source": [
        "!pip install --upgrade pydrive2 google-api-python-client oauth2client\n"
      ],
      "metadata": {
        "colab": {
          "base_uri": "https://localhost:8080/"
        },
        "id": "guap1bDyqZji",
        "outputId": "b88c5d73-4cd8-4ef9-8bc7-90f0142e6e35"
      },
      "execution_count": null,
      "outputs": [
        {
          "output_type": "stream",
          "name": "stdout",
          "text": [
            "Requirement already satisfied: pydrive2 in /usr/local/lib/python3.10/dist-packages (1.21.3)\n",
            "Requirement already satisfied: google-api-python-client in /usr/local/lib/python3.10/dist-packages (2.151.0)\n",
            "Collecting google-api-python-client\n",
            "  Downloading google_api_python_client-2.154.0-py2.py3-none-any.whl.metadata (6.7 kB)\n",
            "Requirement already satisfied: oauth2client in /usr/local/lib/python3.10/dist-packages (4.1.3)\n",
            "Requirement already satisfied: PyYAML>=3.0 in /usr/local/lib/python3.10/dist-packages (from pydrive2) (6.0.2)\n",
            "Requirement already satisfied: cryptography<44 in /usr/local/lib/python3.10/dist-packages (from pydrive2) (43.0.3)\n",
            "Requirement already satisfied: pyOpenSSL<=24.2.1,>=19.1.0 in /usr/local/lib/python3.10/dist-packages (from pydrive2) (24.2.1)\n",
            "Requirement already satisfied: httplib2<1.dev0,>=0.19.0 in /usr/local/lib/python3.10/dist-packages (from google-api-python-client) (0.22.0)\n",
            "Requirement already satisfied: google-auth!=2.24.0,!=2.25.0,<3.0.0.dev0,>=1.32.0 in /usr/local/lib/python3.10/dist-packages (from google-api-python-client) (2.27.0)\n",
            "Requirement already satisfied: google-auth-httplib2<1.0.0,>=0.2.0 in /usr/local/lib/python3.10/dist-packages (from google-api-python-client) (0.2.0)\n",
            "Requirement already satisfied: google-api-core!=2.0.*,!=2.1.*,!=2.2.*,!=2.3.0,<3.0.0.dev0,>=1.31.5 in /usr/local/lib/python3.10/dist-packages (from google-api-python-client) (2.19.2)\n",
            "Requirement already satisfied: uritemplate<5,>=3.0.1 in /usr/local/lib/python3.10/dist-packages (from google-api-python-client) (4.1.1)\n",
            "Requirement already satisfied: pyasn1>=0.1.7 in /usr/local/lib/python3.10/dist-packages (from oauth2client) (0.6.1)\n",
            "Requirement already satisfied: pyasn1-modules>=0.0.5 in /usr/local/lib/python3.10/dist-packages (from oauth2client) (0.4.1)\n",
            "Requirement already satisfied: rsa>=3.1.4 in /usr/local/lib/python3.10/dist-packages (from oauth2client) (4.9)\n",
            "Requirement already satisfied: six>=1.6.1 in /usr/local/lib/python3.10/dist-packages (from oauth2client) (1.16.0)\n",
            "Requirement already satisfied: cffi>=1.12 in /usr/local/lib/python3.10/dist-packages (from cryptography<44->pydrive2) (1.17.1)\n",
            "Requirement already satisfied: googleapis-common-protos<2.0.dev0,>=1.56.2 in /usr/local/lib/python3.10/dist-packages (from google-api-core!=2.0.*,!=2.1.*,!=2.2.*,!=2.3.0,<3.0.0.dev0,>=1.31.5->google-api-python-client) (1.66.0)\n",
            "Requirement already satisfied: protobuf!=3.20.0,!=3.20.1,!=4.21.0,!=4.21.1,!=4.21.2,!=4.21.3,!=4.21.4,!=4.21.5,<6.0.0.dev0,>=3.19.5 in /usr/local/lib/python3.10/dist-packages (from google-api-core!=2.0.*,!=2.1.*,!=2.2.*,!=2.3.0,<3.0.0.dev0,>=1.31.5->google-api-python-client) (4.25.5)\n",
            "Requirement already satisfied: proto-plus<2.0.0dev,>=1.22.3 in /usr/local/lib/python3.10/dist-packages (from google-api-core!=2.0.*,!=2.1.*,!=2.2.*,!=2.3.0,<3.0.0.dev0,>=1.31.5->google-api-python-client) (1.25.0)\n",
            "Requirement already satisfied: requests<3.0.0.dev0,>=2.18.0 in /usr/local/lib/python3.10/dist-packages (from google-api-core!=2.0.*,!=2.1.*,!=2.2.*,!=2.3.0,<3.0.0.dev0,>=1.31.5->google-api-python-client) (2.32.3)\n",
            "Requirement already satisfied: cachetools<6.0,>=2.0.0 in /usr/local/lib/python3.10/dist-packages (from google-auth!=2.24.0,!=2.25.0,<3.0.0.dev0,>=1.32.0->google-api-python-client) (5.5.0)\n",
            "Requirement already satisfied: pyparsing!=3.0.0,!=3.0.1,!=3.0.2,!=3.0.3,<4,>=2.4.2 in /usr/local/lib/python3.10/dist-packages (from httplib2<1.dev0,>=0.19.0->google-api-python-client) (3.2.0)\n",
            "Requirement already satisfied: pycparser in /usr/local/lib/python3.10/dist-packages (from cffi>=1.12->cryptography<44->pydrive2) (2.22)\n",
            "Requirement already satisfied: charset-normalizer<4,>=2 in /usr/local/lib/python3.10/dist-packages (from requests<3.0.0.dev0,>=2.18.0->google-api-core!=2.0.*,!=2.1.*,!=2.2.*,!=2.3.0,<3.0.0.dev0,>=1.31.5->google-api-python-client) (3.4.0)\n",
            "Requirement already satisfied: idna<4,>=2.5 in /usr/local/lib/python3.10/dist-packages (from requests<3.0.0.dev0,>=2.18.0->google-api-core!=2.0.*,!=2.1.*,!=2.2.*,!=2.3.0,<3.0.0.dev0,>=1.31.5->google-api-python-client) (3.10)\n",
            "Requirement already satisfied: urllib3<3,>=1.21.1 in /usr/local/lib/python3.10/dist-packages (from requests<3.0.0.dev0,>=2.18.0->google-api-core!=2.0.*,!=2.1.*,!=2.2.*,!=2.3.0,<3.0.0.dev0,>=1.31.5->google-api-python-client) (2.2.3)\n",
            "Requirement already satisfied: certifi>=2017.4.17 in /usr/local/lib/python3.10/dist-packages (from requests<3.0.0.dev0,>=2.18.0->google-api-core!=2.0.*,!=2.1.*,!=2.2.*,!=2.3.0,<3.0.0.dev0,>=1.31.5->google-api-python-client) (2024.8.30)\n",
            "Downloading google_api_python_client-2.154.0-py2.py3-none-any.whl (12.6 MB)\n",
            "\u001b[2K   \u001b[90m━━━━━━━━━━━━━━━━━━━━━━━━━━━━━━━━━━━━━━━━\u001b[0m \u001b[32m12.6/12.6 MB\u001b[0m \u001b[31m48.9 MB/s\u001b[0m eta \u001b[36m0:00:00\u001b[0m\n",
            "\u001b[?25hInstalling collected packages: google-api-python-client\n",
            "  Attempting uninstall: google-api-python-client\n",
            "    Found existing installation: google-api-python-client 2.151.0\n",
            "    Uninstalling google-api-python-client-2.151.0:\n",
            "      Successfully uninstalled google-api-python-client-2.151.0\n",
            "Successfully installed google-api-python-client-2.154.0\n"
          ]
        }
      ]
    },
    {
      "cell_type": "code",
      "source": [
        "from pydrive2.auth import GoogleAuth\n",
        "from pydrive2.drive import GoogleDrive\n",
        "from google.colab import auth\n",
        "from oauth2client.client import GoogleCredentials\n",
        "\n",
        "# Authenticate and create the PyDrive client\n",
        "auth.authenticate_user()\n",
        "gauth = GoogleAuth()\n",
        "gauth.credentials = GoogleCredentials.get_application_default()\n",
        "drive = GoogleDrive(gauth)"
      ],
      "metadata": {
        "id": "Lab2MT9bpZ3C"
      },
      "execution_count": null,
      "outputs": []
    },
    {
      "cell_type": "code",
      "source": [
        "id='1L6pCQkldvdBoaEhRFzL0VnrggEFvqON4'\n",
        "downloaded = drive.CreateFile({'id': id})\n",
        "downloaded.GetContentFile('Bombing_Operations.json.gz')\n",
        "\n",
        "id='14dyBmcTBA32uXPxDbqr0bFDIzGxMTWwl'\n",
        "downloaded = drive.CreateFile({'id': id})\n",
        "downloaded.GetContentFile('Aircraft_Glossary.json.gz')"
      ],
      "metadata": {
        "id": "j8btLThUrTf6"
      },
      "execution_count": null,
      "outputs": []
    },
    {
      "cell_type": "code",
      "source": [
        "# Let's import the libraries we will need\n",
        "import pandas as pd\n",
        "import numpy as np\n",
        "import matplotlib.pyplot as plt\n",
        "%matplotlib inline\n",
        "\n",
        "import pyspark\n",
        "from pyspark.sql import *\n",
        "from pyspark.sql.functions import *\n",
        "from pyspark import SparkContext, SparkConf"
      ],
      "metadata": {
        "id": "8_PgaP07rcvS"
      },
      "execution_count": null,
      "outputs": []
    },
    {
      "cell_type": "code",
      "source": [
        "from google.colab import drive\n",
        "drive.mount('/content/drive')"
      ],
      "metadata": {
        "colab": {
          "base_uri": "https://localhost:8080/"
        },
        "id": "iVS0pTTWrio5",
        "outputId": "36f29b1b-23f1-4e01-e85d-a1a2ee451d5f"
      },
      "execution_count": null,
      "outputs": [
        {
          "output_type": "stream",
          "name": "stdout",
          "text": [
            "Mounted at /content/drive\n"
          ]
        }
      ]
    },
    {
      "cell_type": "code",
      "source": [
        "# create the session\n",
        "conf = SparkConf().set(\"spark.ui.port\", \"4050\")\n",
        "\n",
        "# create the context\n",
        "sc = pyspark.SparkContext(conf=conf)\n",
        "spark = SparkSession.builder.getOrCreate()"
      ],
      "metadata": {
        "id": "l4IoJL4frqHS"
      },
      "execution_count": null,
      "outputs": []
    },
    {
      "cell_type": "code",
      "source": [
        "spark"
      ],
      "metadata": {
        "colab": {
          "base_uri": "https://localhost:8080/",
          "height": 219
        },
        "id": "XP0WOO2Wsef6",
        "outputId": "bc75798f-2cee-4ebc-b806-426b86c8bb1c"
      },
      "execution_count": null,
      "outputs": [
        {
          "output_type": "execute_result",
          "data": {
            "text/plain": [
              "<pyspark.sql.session.SparkSession at 0x7cd1f66f4c40>"
            ],
            "text/html": [
              "\n",
              "            <div>\n",
              "                <p><b>SparkSession - in-memory</b></p>\n",
              "                \n",
              "        <div>\n",
              "            <p><b>SparkContext</b></p>\n",
              "\n",
              "            <p><a href=\"http://fcf69df0d267:4050\">Spark UI</a></p>\n",
              "\n",
              "            <dl>\n",
              "              <dt>Version</dt>\n",
              "                <dd><code>v3.5.3</code></dd>\n",
              "              <dt>Master</dt>\n",
              "                <dd><code>local[*]</code></dd>\n",
              "              <dt>AppName</dt>\n",
              "                <dd><code>pyspark-shell</code></dd>\n",
              "            </dl>\n",
              "        </div>\n",
              "        \n",
              "            </div>\n",
              "        "
            ]
          },
          "metadata": {},
          "execution_count": 9
        }
      ]
    },
    {
      "cell_type": "code",
      "source": [
        "!wget https://bin.equinox.io/c/4VmDzA7iaHb/ngrok-stable-linux-amd64.zip\n",
        "!unzip ngrok-stable-linux-amd64.zip\n",
        "get_ipython().system_raw('./ngrok http 4050 &')\n",
        "!curl -s http://localhost:4040/api/tunnels | python3 -c \\\n",
        "    \"import sys, json; print(json.load(sys.stdin)['tunnels'][0]['public_url'])\""
      ],
      "metadata": {
        "colab": {
          "base_uri": "https://localhost:8080/"
        },
        "id": "FR5jF7h3si9h",
        "outputId": "c9fca251-875c-4df5-e637-33a72e7c2b54"
      },
      "execution_count": null,
      "outputs": [
        {
          "output_type": "stream",
          "name": "stdout",
          "text": [
            "--2024-12-05 02:55:15--  https://bin.equinox.io/c/4VmDzA7iaHb/ngrok-stable-linux-amd64.zip\n",
            "Resolving bin.equinox.io (bin.equinox.io)... 99.83.220.108, 35.71.179.82, 75.2.60.68, ...\n",
            "Connecting to bin.equinox.io (bin.equinox.io)|99.83.220.108|:443... connected.\n",
            "HTTP request sent, awaiting response... 200 OK\n",
            "Length: 13921656 (13M) [application/octet-stream]\n",
            "Saving to: ‘ngrok-stable-linux-amd64.zip’\n",
            "\n",
            "ngrok-stable-linux- 100%[===================>]  13.28M  25.1MB/s    in 0.5s    \n",
            "\n",
            "2024-12-05 02:55:16 (25.1 MB/s) - ‘ngrok-stable-linux-amd64.zip’ saved [13921656/13921656]\n",
            "\n",
            "Archive:  ngrok-stable-linux-amd64.zip\n",
            "  inflating: ngrok                   \n",
            "Traceback (most recent call last):\n",
            "  File \"<string>\", line 1, in <module>\n",
            "  File \"/usr/lib/python3.10/json/__init__.py\", line 293, in load\n",
            "    return loads(fp.read(),\n",
            "  File \"/usr/lib/python3.10/json/__init__.py\", line 346, in loads\n",
            "    return _default_decoder.decode(s)\n",
            "  File \"/usr/lib/python3.10/json/decoder.py\", line 337, in decode\n",
            "    obj, end = self.raw_decode(s, idx=_w(s, 0).end())\n",
            "  File \"/usr/lib/python3.10/json/decoder.py\", line 355, in raw_decode\n",
            "    raise JSONDecodeError(\"Expecting value\", s, err.value) from None\n",
            "json.decoder.JSONDecodeError: Expecting value: line 1 column 1 (char 0)\n"
          ]
        }
      ]
    },
    {
      "cell_type": "code",
      "source": [
        "Bombing_Operations = spark.read.json(\"Bombing_Operations.json.gz\")\n",
        "Aircraft_Glossary = spark.read.json(\"Aircraft_Glossary.json.gz\")"
      ],
      "metadata": {
        "id": "S1bup3D3s4JR"
      },
      "execution_count": null,
      "outputs": []
    },
    {
      "cell_type": "code",
      "source": [
        "Bombing_Operations.printSchema()"
      ],
      "metadata": {
        "colab": {
          "base_uri": "https://localhost:8080/"
        },
        "id": "koms40M4tTpZ",
        "outputId": "0a6ced14-be71-415a-e0bf-c7cf82cd5569"
      },
      "execution_count": null,
      "outputs": [
        {
          "output_type": "stream",
          "name": "stdout",
          "text": [
            "root\n",
            " |-- AirCraft: string (nullable = true)\n",
            " |-- ContryFlyingMission: string (nullable = true)\n",
            " |-- MissionDate: string (nullable = true)\n",
            " |-- OperationSupported: string (nullable = true)\n",
            " |-- PeriodOfDay: string (nullable = true)\n",
            " |-- TakeoffLocation: string (nullable = true)\n",
            " |-- TargetCountry: string (nullable = true)\n",
            " |-- TimeOnTarget: double (nullable = true)\n",
            " |-- WeaponType: string (nullable = true)\n",
            " |-- WeaponsLoadedWeight: long (nullable = true)\n",
            "\n"
          ]
        }
      ]
    },
    {
      "cell_type": "code",
      "source": [
        "Aircraft_Glossary.printSchema()"
      ],
      "metadata": {
        "colab": {
          "base_uri": "https://localhost:8080/"
        },
        "id": "t-TDKa08tmMy",
        "outputId": "980297d7-257b-449d-ebb6-86db265c52af"
      },
      "execution_count": null,
      "outputs": [
        {
          "output_type": "stream",
          "name": "stdout",
          "text": [
            "root\n",
            " |-- AirCraft: string (nullable = true)\n",
            " |-- AirCraftName: string (nullable = true)\n",
            " |-- AirCraftType: string (nullable = true)\n",
            "\n"
          ]
        }
      ]
    },
    {
      "cell_type": "code",
      "source": [
        "Bombing_Operations.show()"
      ],
      "metadata": {
        "colab": {
          "base_uri": "https://localhost:8080/"
        },
        "id": "axRFybhItsK3",
        "outputId": "d8b48072-f695-4f1c-d8d1-f25a64d76bdc"
      },
      "execution_count": null,
      "outputs": [
        {
          "output_type": "stream",
          "name": "stdout",
          "text": [
            "+--------+--------------------+-----------+------------------+-----------+---------------+-------------+------------+--------------------+-------------------+\n",
            "|AirCraft| ContryFlyingMission|MissionDate|OperationSupported|PeriodOfDay|TakeoffLocation|TargetCountry|TimeOnTarget|          WeaponType|WeaponsLoadedWeight|\n",
            "+--------+--------------------+-----------+------------------+-----------+---------------+-------------+------------+--------------------+-------------------+\n",
            "|   EC-47|UNITED STATES OF ...| 1971-06-05|              NULL|          D|   TAN SON NHUT|     CAMBODIA|      1005.0|                NULL|                  0|\n",
            "|   EC-47|UNITED STATES OF ...| 1972-12-26|              NULL|          D|  NAKHON PHANOM|SOUTH VIETNAM|       530.0|                NULL|                  0|\n",
            "|    RF-4|UNITED STATES OF ...| 1973-07-28|              NULL|          D|       UDORN AB|         LAOS|       730.0|                NULL|                  0|\n",
            "|     A-1|UNITED STATES OF ...| 1970-02-02|              NULL|          N|  NAKHON PHANOM|         LAOS|      1415.0|BLU27 FIRE BOMB (...|              17400|\n",
            "|    A-37|     VIETNAM (SOUTH)| 1970-10-08|              NULL|          D|         DANANG|SOUTH VIETNAM|      1240.0|                NULL|                  0|\n",
            "|     F-4|UNITED STATES OF ...| 1970-11-25|              NULL|          D|        UBON AB|         LAOS|       650.0|MK 82 GP BOMB (50...|              31860|\n",
            "|     A-4|UNITED STATES OF ...| 1972-03-08|              NULL|          D|    TONKIN GULF|         LAOS|      1005.0|                NULL|                  0|\n",
            "|     F-4|UNITED STATES OF ...| 1971-12-27|              NULL|       NULL|       UDORN AB|         LAOS|         0.0|                NULL|                  0|\n",
            "|     A-7|UNITED STATES OF ...| 1972-05-24|              NULL|       NULL|    TONKIN GULF|NORTH VIETNAM|         0.0|                NULL|                  0|\n",
            "|   EC-47|UNITED STATES OF ...| 1972-09-12|              NULL|          D|   TAN SON NHUT|SOUTH VIETNAM|       710.0|                NULL|                  0|\n",
            "|   CH-53|UNITED STATES OF ...| 1974-06-13|              NULL|          N|  NAKHON PHANOM|     THAILAND|      1800.0|                NULL|                  0|\n",
            "|   CH-53|UNITED STATES OF ...| 1974-12-19|              NULL|          D|  NAKHON PHANOM|     THAILAND|       800.0|                NULL|                  0|\n",
            "|     O-1|     VIETNAM (SOUTH)| 1973-10-24|              NULL|          D|      NHA TRANG|SOUTH VIETNAM|       800.0|                NULL|                  0|\n",
            "|    UH-1|     VIETNAM (SOUTH)| 1974-03-19|              NULL|          D|        PHU CAT|SOUTH VIETNAM|       800.0|        CARGO (TONS)|                  0|\n",
            "|     C-7|UNITED STATES OF ...| 1970-05-08|              NULL|          D|   TAN SON NHUT|SOUTH VIETNAM|       800.0|                NULL|                  0|\n",
            "|     A-6|UNITED STATES OF ...| 1971-05-12|              NULL|          N|    TONKIN GULF|         LAOS|      1304.0|CBU24 AN PR/MT (B...|              33200|\n",
            "|   EB-66|UNITED STATES OF ...| 1971-12-03|              NULL|          N|          KORAT|         LAOS|      1445.0|                NULL|                  0|\n",
            "|    T-28|                LAOS| 1971-12-19|              NULL|          D|     SAVANAKHET|         LAOS|       230.0|                NULL|                  0|\n",
            "|     A-6|UNITED STATES OF ...| 1972-08-18|              NULL|       NULL|    TONKIN GULF|NORTH VIETNAM|         0.0|                NULL|                  0|\n",
            "|     A-7|UNITED STATES OF ...| 1972-10-15|              NULL|          D|    TONKIN GULF|NORTH VIETNAM|       110.0|                NULL|                  0|\n",
            "+--------+--------------------+-----------+------------------+-----------+---------------+-------------+------------+--------------------+-------------------+\n",
            "only showing top 20 rows\n",
            "\n"
          ]
        }
      ]
    },
    {
      "cell_type": "code",
      "source": [
        "Aircraft_Glossary.show()"
      ],
      "metadata": {
        "colab": {
          "base_uri": "https://localhost:8080/"
        },
        "id": "SPFx1xNLtwkh",
        "outputId": "eac33afb-1a6e-48fb-ae72-54c848706e27"
      },
      "execution_count": null,
      "outputs": [
        {
          "output_type": "stream",
          "name": "stdout",
          "text": [
            "+--------+--------------------+--------------------+\n",
            "|AirCraft|        AirCraftName|        AirCraftType|\n",
            "+--------+--------------------+--------------------+\n",
            "|     A-1|Douglas A-1 Skyra...|         Fighter Jet|\n",
            "|    A-26|Douglas A-26 Invader|        Light Bomber|\n",
            "|    A-37|Cessna A-37 Drago...|Light ground-atta...|\n",
            "|     A-4|McDonnell Douglas...|         Fighter Jet|\n",
            "|     A-5|North American A-...|          Bomber Jet|\n",
            "|     A-6|Grumman A-6 Intruder|     Attack Aircraft|\n",
            "|     A-7|  LTV A-7 Corsair II|     Attack Aircraft|\n",
            "|  AC-119|Fairchild AC-119 ...|Military Transpor...|\n",
            "|  AC-123|Fairchild C-123 P...|Military Transpor...|\n",
            "|  AC-130|Lockheed AC-130 S...|Fixed wing ground...|\n",
            "|   AC-47|Douglas AC-47 Spooky|Ground attack air...|\n",
            "|    AH-1| Bell AH-1 HueyCobra|          Helicopter|\n",
            "|     B-1| Rockwell B-1 Lancer|Heavy strategic b...|\n",
            "|    B-52| B-52 Stratofortress|    Strategic bomber|\n",
            "|    B-57|Martin B-57 Canberra|     Tactical Bomber|\n",
            "|    B-66|Douglas B-66 Dest...|        Light Bomber|\n",
            "|     C-1| Grumman C-1A Trader|           Transport|\n",
            "|   C-117|     C-117D Skytrain|           Transport|\n",
            "|   C-119|Fairchild C-119 F...|Military Transpor...|\n",
            "|   C-123|Fairchild C-123 P...|Military Transpor...|\n",
            "+--------+--------------------+--------------------+\n",
            "only showing top 20 rows\n",
            "\n"
          ]
        }
      ]
    },
    {
      "cell_type": "code",
      "source": [
        "Aircraft_Glossary.take(5)"
      ],
      "metadata": {
        "colab": {
          "base_uri": "https://localhost:8080/"
        },
        "id": "AvUwtS9Htyqr",
        "outputId": "56583c85-0a9d-4d19-ed83-760209dd6230"
      },
      "execution_count": null,
      "outputs": [
        {
          "output_type": "execute_result",
          "data": {
            "text/plain": [
              "[Row(AirCraft='A-1', AirCraftName='Douglas A-1 Skyraider', AirCraftType='Fighter Jet'),\n",
              " Row(AirCraft='A-26', AirCraftName='Douglas A-26 Invader', AirCraftType='Light Bomber'),\n",
              " Row(AirCraft='A-37', AirCraftName='Cessna A-37 Dragonfly', AirCraftType='Light ground-attack aircraft'),\n",
              " Row(AirCraft='A-4', AirCraftName='McDonnell Douglas A-4 Skyhawk', AirCraftType='Fighter Jet'),\n",
              " Row(AirCraft='A-5', AirCraftName='North American A-5 Vigilante', AirCraftType='Bomber Jet')]"
            ]
          },
          "metadata": {},
          "execution_count": 16
        }
      ]
    },
    {
      "cell_type": "code",
      "source": [
        "Aircraft_Glossary.select(\"AirCraft\",\"AirCraftname\").show()"
      ],
      "metadata": {
        "colab": {
          "base_uri": "https://localhost:8080/"
        },
        "id": "Cjh105Dmt5Li",
        "outputId": "c58dfcb6-6b16-47e3-d31d-1d1b58a24104"
      },
      "execution_count": null,
      "outputs": [
        {
          "output_type": "stream",
          "name": "stdout",
          "text": [
            "+--------+--------------------+\n",
            "|AirCraft|        AirCraftname|\n",
            "+--------+--------------------+\n",
            "|     A-1|Douglas A-1 Skyra...|\n",
            "|    A-26|Douglas A-26 Invader|\n",
            "|    A-37|Cessna A-37 Drago...|\n",
            "|     A-4|McDonnell Douglas...|\n",
            "|     A-5|North American A-...|\n",
            "|     A-6|Grumman A-6 Intruder|\n",
            "|     A-7|  LTV A-7 Corsair II|\n",
            "|  AC-119|Fairchild AC-119 ...|\n",
            "|  AC-123|Fairchild C-123 P...|\n",
            "|  AC-130|Lockheed AC-130 S...|\n",
            "|   AC-47|Douglas AC-47 Spooky|\n",
            "|    AH-1| Bell AH-1 HueyCobra|\n",
            "|     B-1| Rockwell B-1 Lancer|\n",
            "|    B-52| B-52 Stratofortress|\n",
            "|    B-57|Martin B-57 Canberra|\n",
            "|    B-66|Douglas B-66 Dest...|\n",
            "|     C-1| Grumman C-1A Trader|\n",
            "|   C-117|     C-117D Skytrain|\n",
            "|   C-119|Fairchild C-119 F...|\n",
            "|   C-123|Fairchild C-123 P...|\n",
            "+--------+--------------------+\n",
            "only showing top 20 rows\n",
            "\n"
          ]
        }
      ]
    },
    {
      "cell_type": "code",
      "source": [
        "Aircraft_Glossary.where(Aircraft_Glossary.AirCraft==\"A-1\").show()"
      ],
      "metadata": {
        "colab": {
          "base_uri": "https://localhost:8080/"
        },
        "id": "QmxPaXC2uNvQ",
        "outputId": "601673cf-54af-4b42-cbeb-fa62027ba86f"
      },
      "execution_count": null,
      "outputs": [
        {
          "output_type": "stream",
          "name": "stdout",
          "text": [
            "+--------+--------------------+------------+\n",
            "|AirCraft|        AirCraftName|AirCraftType|\n",
            "+--------+--------------------+------------+\n",
            "|     A-1|Douglas A-1 Skyra...| Fighter Jet|\n",
            "+--------+--------------------+------------+\n",
            "\n"
          ]
        }
      ]
    },
    {
      "cell_type": "code",
      "source": [
        "Aircraft_Glossary.where(Aircraft_Glossary.AirCraft==\"A-1\").collect()"
      ],
      "metadata": {
        "colab": {
          "base_uri": "https://localhost:8080/"
        },
        "id": "OVKf37mQuaIq",
        "outputId": "38eadf49-0c39-41b1-8008-f2a626f18fc7"
      },
      "execution_count": null,
      "outputs": [
        {
          "output_type": "execute_result",
          "data": {
            "text/plain": [
              "[Row(AirCraft='A-1', AirCraftName='Douglas A-1 Skyraider', AirCraftType='Fighter Jet')]"
            ]
          },
          "metadata": {},
          "execution_count": 19
        }
      ]
    },
    {
      "cell_type": "code",
      "source": [
        "Aircraft_Glossary.where(\"AirCraft == 'A-1'\").show()"
      ],
      "metadata": {
        "colab": {
          "base_uri": "https://localhost:8080/"
        },
        "id": "_4QTpC5TvBah",
        "outputId": "f2439439-1d7b-4116-eab6-ea68ff137196"
      },
      "execution_count": null,
      "outputs": [
        {
          "output_type": "stream",
          "name": "stdout",
          "text": [
            "+--------+--------------------+------------+\n",
            "|AirCraft|        AirCraftName|AirCraftType|\n",
            "+--------+--------------------+------------+\n",
            "|     A-1|Douglas A-1 Skyra...| Fighter Jet|\n",
            "+--------+--------------------+------------+\n",
            "\n"
          ]
        }
      ]
    },
    {
      "cell_type": "code",
      "source": [
        "Bombing_Operations.count()"
      ],
      "metadata": {
        "colab": {
          "base_uri": "https://localhost:8080/"
        },
        "id": "aVwtI_YNvDxq",
        "outputId": "b9da043e-a8c5-4019-f813-7c7d748c2fbe"
      },
      "execution_count": null,
      "outputs": [
        {
          "output_type": "execute_result",
          "data": {
            "text/plain": [
              "4400775"
            ]
          },
          "metadata": {},
          "execution_count": 21
        }
      ]
    },
    {
      "cell_type": "code",
      "source": [
        "Aircraft_Glossary.count()"
      ],
      "metadata": {
        "colab": {
          "base_uri": "https://localhost:8080/"
        },
        "id": "B1PBocx2vMRi",
        "outputId": "4d1fa308-3755-4190-da59-c0bf1d94c31b"
      },
      "execution_count": null,
      "outputs": [
        {
          "output_type": "execute_result",
          "data": {
            "text/plain": [
              "104"
            ]
          },
          "metadata": {},
          "execution_count": 22
        }
      ]
    },
    {
      "cell_type": "code",
      "source": [
        "print(\"There are %d aircrafts\" % (Aircraft_Glossary.count()))"
      ],
      "metadata": {
        "colab": {
          "base_uri": "https://localhost:8080/"
        },
        "id": "jfcdFjF3v2MR",
        "outputId": "768e5804-6e31-4ae0-95f3-acf58c655c84"
      },
      "execution_count": null,
      "outputs": [
        {
          "output_type": "stream",
          "name": "stdout",
          "text": [
            "There are 104 aircrafts\n"
          ]
        }
      ]
    },
    {
      "cell_type": "code",
      "source": [
        "Aircraft_Glossary.where(\"AirCraftType == 'Light Bomber'\").show()"
      ],
      "metadata": {
        "colab": {
          "base_uri": "https://localhost:8080/"
        },
        "id": "srhiQu39v6P6",
        "outputId": "39e44c4f-50c6-427f-9bc5-c34d2ffb4a58"
      },
      "execution_count": null,
      "outputs": [
        {
          "output_type": "stream",
          "name": "stdout",
          "text": [
            "+--------+--------------------+------------+\n",
            "|AirCraft|        AirCraftName|AirCraftType|\n",
            "+--------+--------------------+------------+\n",
            "|    A-26|Douglas A-26 Invader|Light Bomber|\n",
            "|    B-66|Douglas B-66 Dest...|Light Bomber|\n",
            "|   RB-66|Douglas RB-66 Des...|Light Bomber|\n",
            "+--------+--------------------+------------+\n",
            "\n"
          ]
        }
      ]
    },
    {
      "cell_type": "code",
      "source": [
        "Bombing_Operations.where(\"TakeOffLocation=='UDORN AB'\").select(\"AirCraft\", \"MissionDate\",\"ContryFlyingMission\").show()"
      ],
      "metadata": {
        "colab": {
          "base_uri": "https://localhost:8080/"
        },
        "collapsed": true,
        "id": "xM3Sj5Kyyvhz",
        "outputId": "25d5cee2-73ae-4c03-e0bb-e7ed3979abd8"
      },
      "execution_count": null,
      "outputs": [
        {
          "output_type": "stream",
          "name": "stdout",
          "text": [
            "+--------+-----------+--------------------+\n",
            "|AirCraft|MissionDate| ContryFlyingMission|\n",
            "+--------+-----------+--------------------+\n",
            "|    RF-4| 1973-07-28|UNITED STATES OF ...|\n",
            "|     F-4| 1971-12-27|UNITED STATES OF ...|\n",
            "|    RF-4| 1972-01-08|UNITED STATES OF ...|\n",
            "|    RF-4| 1970-12-08|UNITED STATES OF ...|\n",
            "|    RF-4| 1974-08-01|UNITED STATES OF ...|\n",
            "|     F-4| 1972-04-25|UNITED STATES OF ...|\n",
            "|    RF-4| 1973-08-25|UNITED STATES OF ...|\n",
            "|    RF-4| 1973-09-16|UNITED STATES OF ...|\n",
            "|     F-4| 1970-04-02|UNITED STATES OF ...|\n",
            "|    T-28| 1970-04-12|                LAOS|\n",
            "|     F-4| 1971-03-06|UNITED STATES OF ...|\n",
            "|     F-4| 1972-12-06|UNITED STATES OF ...|\n",
            "|     F-4| 1970-03-12|UNITED STATES OF ...|\n",
            "|    RF-4| 1973-05-12|UNITED STATES OF ...|\n",
            "|     F-4| 1974-06-11|UNITED STATES OF ...|\n",
            "|     F-4| 1973-04-30|UNITED STATES OF ...|\n",
            "|    RF-4| 1970-12-11|UNITED STATES OF ...|\n",
            "|  WC-130| 1971-08-06|UNITED STATES OF ...|\n",
            "|    RF-4| 1975-04-01|UNITED STATES OF ...|\n",
            "|     F-4| 1970-02-28|UNITED STATES OF ...|\n",
            "+--------+-----------+--------------------+\n",
            "only showing top 20 rows\n",
            "\n"
          ]
        }
      ]
    },
    {
      "cell_type": "code",
      "source": [
        "df_a_1 = Bombing_Operations.where('AirCraft==\"A-1\"').show()"
      ],
      "metadata": {
        "colab": {
          "base_uri": "https://localhost:8080/"
        },
        "id": "ytvDp9bB3JWr",
        "outputId": "3b8fcb21-f128-4222-9ea0-d706ad042e7c"
      },
      "execution_count": null,
      "outputs": [
        {
          "output_type": "stream",
          "name": "stdout",
          "text": [
            "+--------+--------------------+-----------+------------------+-----------+---------------+-------------+------------+--------------------+-------------------+\n",
            "|AirCraft| ContryFlyingMission|MissionDate|OperationSupported|PeriodOfDay|TakeoffLocation|TargetCountry|TimeOnTarget|          WeaponType|WeaponsLoadedWeight|\n",
            "+--------+--------------------+-----------+------------------+-----------+---------------+-------------+------------+--------------------+-------------------+\n",
            "|     A-1|UNITED STATES OF ...| 1970-02-02|              NULL|          N|  NAKHON PHANOM|         LAOS|      1415.0|BLU27 FIRE BOMB (...|              17400|\n",
            "|     A-1|     VIETNAM (SOUTH)| 1972-04-29|              NULL|          D|       BIEN HOA|SOUTH VIETNAM|       700.0|                NULL|              84960|\n",
            "|     A-1|     VIETNAM (SOUTH)| 1972-08-02|              NULL|       NULL|       BIEN HOA|SOUTH VIETNAM|         0.0|                NULL|                  0|\n",
            "|     A-1|     VIETNAM (SOUTH)| 1970-04-27|              NULL|          D|       BIEN HOA|SOUTH VIETNAM|       800.0|                NULL|              77580|\n",
            "|     A-1|     VIETNAM (SOUTH)| 1971-07-29|              NULL|          D|         PLEIKU|SOUTH VIETNAM|      1020.0|                NULL|                  0|\n",
            "|     A-1|UNITED STATES OF ...| 1970-05-19|              NULL|          D|  NAKHON PHANOM|         LAOS|      1000.0|CBU25 AN PR/MT (B...|              31680|\n",
            "|     A-1|UNITED STATES OF ...| 1970-07-04|              NULL|          D|         DANANG|         LAOS|       705.0|                NULL|                  0|\n",
            "|     A-1|     VIETNAM (SOUTH)| 1972-06-16|              NULL|          D|       BIEN HOA|SOUTH VIETNAM|       120.0|                NULL|              10560|\n",
            "|     A-1|UNITED STATES OF ...| 1970-04-08|              NULL|          D|  NAKHON PHANOM|         LAOS|        25.0|M1A4 FRAG BOMB CL...|              10000|\n",
            "|     A-1|     VIETNAM (SOUTH)| 1971-12-06|              NULL|          D|       BIEN HOA|SOUTH VIETNAM|       550.0|                NULL|              31860|\n",
            "|     A-1|     VIETNAM (SOUTH)| 1971-05-07|              NULL|          D|       BIEN HOA|     CAMBODIA|       300.0|                NULL|                  0|\n",
            "|     A-1|     VIETNAM (SOUTH)| 1972-10-05|              NULL|          D|       BIEN HOA|SOUTH VIETNAM|       148.0|BLU32B FIRE BOMB ...|              30000|\n",
            "|     A-1|     VIETNAM (SOUTH)| 1972-02-18|              NULL|          D|   TAN SON NHUT|     CAMBODIA|       120.0|                NULL|              84960|\n",
            "|     A-1|UNITED STATES OF ...| 1971-01-03|              NULL|       NULL|  NAKHON PHANOM|         LAOS|         0.0|                NULL|                  0|\n",
            "|     A-1|     VIETNAM (SOUTH)| 1971-04-05|              NULL|          D|       BIEN HOA|     CAMBODIA|       210.0|                NULL|                  0|\n",
            "|     A-1|     VIETNAM (SOUTH)| 1970-09-01|              NULL|          D|       BIEN HOA|     CAMBODIA|       250.0|                NULL|                  0|\n",
            "|     A-1|     VIETNAM (SOUTH)| 1972-09-13|              NULL|          D|         PLEIKU|SOUTH VIETNAM|       415.0|                NULL|                  0|\n",
            "|     A-1|     VIETNAM (SOUTH)| 1972-07-28|              NULL|       NULL|       BIEN HOA|SOUTH VIETNAM|         0.0|                NULL|                  0|\n",
            "|     A-1|     VIETNAM (SOUTH)| 1973-12-11|              NULL|          D|       BIEN HOA|SOUTH VIETNAM|       800.0|MK 82 GP BOMB (50...|             743400|\n",
            "|     A-1|UNITED STATES OF ...| 1972-05-07|              NULL|       NULL|  NAKHON PHANOM|         LAOS|         0.0|                NULL|                  0|\n",
            "+--------+--------------------+-----------+------------------+-----------+---------------+-------------+------------+--------------------+-------------------+\n",
            "only showing top 20 rows\n",
            "\n"
          ]
        }
      ]
    },
    {
      "cell_type": "code",
      "source": [
        "df_a_1 = Bombing_Operations.where('AirCraft==\"A-1\"')"
      ],
      "metadata": {
        "id": "Ws8ybYwV3QAL"
      },
      "execution_count": null,
      "outputs": []
    },
    {
      "cell_type": "code",
      "source": [
        "df_a_1.show()"
      ],
      "metadata": {
        "colab": {
          "base_uri": "https://localhost:8080/"
        },
        "id": "XUdauRks3TrT",
        "outputId": "ceaaae60-c9aa-4262-a884-9b3c443f522f"
      },
      "execution_count": null,
      "outputs": [
        {
          "output_type": "stream",
          "name": "stdout",
          "text": [
            "+--------+--------------------+-----------+------------------+-----------+---------------+-------------+------------+--------------------+-------------------+\n",
            "|AirCraft| ContryFlyingMission|MissionDate|OperationSupported|PeriodOfDay|TakeoffLocation|TargetCountry|TimeOnTarget|          WeaponType|WeaponsLoadedWeight|\n",
            "+--------+--------------------+-----------+------------------+-----------+---------------+-------------+------------+--------------------+-------------------+\n",
            "|     A-1|UNITED STATES OF ...| 1970-02-02|              NULL|          N|  NAKHON PHANOM|         LAOS|      1415.0|BLU27 FIRE BOMB (...|              17400|\n",
            "|     A-1|     VIETNAM (SOUTH)| 1972-04-29|              NULL|          D|       BIEN HOA|SOUTH VIETNAM|       700.0|                NULL|              84960|\n",
            "|     A-1|     VIETNAM (SOUTH)| 1972-08-02|              NULL|       NULL|       BIEN HOA|SOUTH VIETNAM|         0.0|                NULL|                  0|\n",
            "|     A-1|     VIETNAM (SOUTH)| 1970-04-27|              NULL|          D|       BIEN HOA|SOUTH VIETNAM|       800.0|                NULL|              77580|\n",
            "|     A-1|     VIETNAM (SOUTH)| 1971-07-29|              NULL|          D|         PLEIKU|SOUTH VIETNAM|      1020.0|                NULL|                  0|\n",
            "|     A-1|UNITED STATES OF ...| 1970-05-19|              NULL|          D|  NAKHON PHANOM|         LAOS|      1000.0|CBU25 AN PR/MT (B...|              31680|\n",
            "|     A-1|UNITED STATES OF ...| 1970-07-04|              NULL|          D|         DANANG|         LAOS|       705.0|                NULL|                  0|\n",
            "|     A-1|     VIETNAM (SOUTH)| 1972-06-16|              NULL|          D|       BIEN HOA|SOUTH VIETNAM|       120.0|                NULL|              10560|\n",
            "|     A-1|UNITED STATES OF ...| 1970-04-08|              NULL|          D|  NAKHON PHANOM|         LAOS|        25.0|M1A4 FRAG BOMB CL...|              10000|\n",
            "|     A-1|     VIETNAM (SOUTH)| 1971-12-06|              NULL|          D|       BIEN HOA|SOUTH VIETNAM|       550.0|                NULL|              31860|\n",
            "|     A-1|     VIETNAM (SOUTH)| 1971-05-07|              NULL|          D|       BIEN HOA|     CAMBODIA|       300.0|                NULL|                  0|\n",
            "|     A-1|     VIETNAM (SOUTH)| 1972-10-05|              NULL|          D|       BIEN HOA|SOUTH VIETNAM|       148.0|BLU32B FIRE BOMB ...|              30000|\n",
            "|     A-1|     VIETNAM (SOUTH)| 1972-02-18|              NULL|          D|   TAN SON NHUT|     CAMBODIA|       120.0|                NULL|              84960|\n",
            "|     A-1|UNITED STATES OF ...| 1971-01-03|              NULL|       NULL|  NAKHON PHANOM|         LAOS|         0.0|                NULL|                  0|\n",
            "|     A-1|     VIETNAM (SOUTH)| 1971-04-05|              NULL|          D|       BIEN HOA|     CAMBODIA|       210.0|                NULL|                  0|\n",
            "|     A-1|     VIETNAM (SOUTH)| 1970-09-01|              NULL|          D|       BIEN HOA|     CAMBODIA|       250.0|                NULL|                  0|\n",
            "|     A-1|     VIETNAM (SOUTH)| 1972-09-13|              NULL|          D|         PLEIKU|SOUTH VIETNAM|       415.0|                NULL|                  0|\n",
            "|     A-1|     VIETNAM (SOUTH)| 1972-07-28|              NULL|       NULL|       BIEN HOA|SOUTH VIETNAM|         0.0|                NULL|                  0|\n",
            "|     A-1|     VIETNAM (SOUTH)| 1973-12-11|              NULL|          D|       BIEN HOA|SOUTH VIETNAM|       800.0|MK 82 GP BOMB (50...|             743400|\n",
            "|     A-1|UNITED STATES OF ...| 1972-05-07|              NULL|       NULL|  NAKHON PHANOM|         LAOS|         0.0|                NULL|                  0|\n",
            "+--------+--------------------+-----------+------------------+-----------+---------------+-------------+------------+--------------------+-------------------+\n",
            "only showing top 20 rows\n",
            "\n"
          ]
        }
      ]
    },
    {
      "cell_type": "code",
      "source": [
        "Bombing_Operations.where(\"MissionDate==1971\")"
      ],
      "metadata": {
        "colab": {
          "base_uri": "https://localhost:8080/"
        },
        "id": "u-qIlCAmz8H6",
        "outputId": "6cf7c5ea-f9d3-4337-b3f6-cdb7c98e0569"
      },
      "execution_count": null,
      "outputs": [
        {
          "output_type": "execute_result",
          "data": {
            "text/plain": [
              "DataFrame[AirCraft: string, ContryFlyingMission: string, MissionDate: string, OperationSupported: string, PeriodOfDay: string, TakeoffLocation: string, TargetCountry: string, TimeOnTarget: double, WeaponType: string, WeaponsLoadedWeight: bigint]"
            ]
          },
          "metadata": {},
          "execution_count": 29
        }
      ]
    },
    {
      "cell_type": "code",
      "source": [
        "Q2 = Bombing_Operations.where(\"ContryFlyingMission == 'VIETNAM (SOUTH)'\")\n"
      ],
      "metadata": {
        "id": "t4srrzt71kqj"
      },
      "execution_count": null,
      "outputs": []
    },
    {
      "cell_type": "code",
      "source": [
        "Q2.show()"
      ],
      "metadata": {
        "colab": {
          "base_uri": "https://localhost:8080/"
        },
        "id": "Q_FNeBIC3vei",
        "outputId": "142c6ec1-1535-4c64-91a4-03b14166e04c"
      },
      "execution_count": null,
      "outputs": [
        {
          "output_type": "stream",
          "name": "stdout",
          "text": [
            "+--------+-------------------+-----------+------------------+-----------+---------------+-------------+------------+------------+-------------------+\n",
            "|AirCraft|ContryFlyingMission|MissionDate|OperationSupported|PeriodOfDay|TakeoffLocation|TargetCountry|TimeOnTarget|  WeaponType|WeaponsLoadedWeight|\n",
            "+--------+-------------------+-----------+------------------+-----------+---------------+-------------+------------+------------+-------------------+\n",
            "|    A-37|    VIETNAM (SOUTH)| 1970-10-08|              NULL|          D|         DANANG|SOUTH VIETNAM|      1240.0|        NULL|                  0|\n",
            "|     O-1|    VIETNAM (SOUTH)| 1973-10-24|              NULL|          D|      NHA TRANG|SOUTH VIETNAM|       800.0|        NULL|                  0|\n",
            "|    UH-1|    VIETNAM (SOUTH)| 1974-03-19|              NULL|          D|        PHU CAT|SOUTH VIETNAM|       800.0|CARGO (TONS)|                  0|\n",
            "|   CH-47|    VIETNAM (SOUTH)| 1971-03-29|              NULL|          D|       BIEN HOA|SOUTH VIETNAM|       800.0|        NULL|                  0|\n",
            "|   AC-47|    VIETNAM (SOUTH)| 1971-09-20|              NULL|          N|      BINH THUY|SOUTH VIETNAM|      1315.0|        NULL|               7200|\n",
            "|    UH-1|    VIETNAM (SOUTH)| 1972-08-22|              NULL|          D|         DANANG|SOUTH VIETNAM|       800.0|  PASSENGERS|                  0|\n",
            "|    UH-1|    VIETNAM (SOUTH)| 1973-05-13|              NULL|          D|        PHU CAT|SOUTH VIETNAM|       800.0|        NULL|                  0|\n",
            "|   CH-47|    VIETNAM (SOUTH)| 1975-01-04|              NULL|          D|       BIEN HOA|SOUTH VIETNAM|       800.0|        NULL|                  0|\n",
            "|    A-37|    VIETNAM (SOUTH)| 1971-02-08|              NULL|          D|      BINH THUY|SOUTH VIETNAM|      1518.0|        NULL|              63720|\n",
            "|   C-119|    VIETNAM (SOUTH)| 1970-09-17|              NULL|          D|   TAN SON NHUT|SOUTH VIETNAM|       800.0|  PASSENGERS|                  0|\n",
            "|    A-37|    VIETNAM (SOUTH)| 1971-04-02|              NULL|          D|      BINH THUY|SOUTH VIETNAM|       720.0|        NULL|                  0|\n",
            "|     A-1|    VIETNAM (SOUTH)| 1972-04-29|              NULL|          D|       BIEN HOA|SOUTH VIETNAM|       700.0|        NULL|              84960|\n",
            "|     A-1|    VIETNAM (SOUTH)| 1972-08-02|              NULL|       NULL|       BIEN HOA|SOUTH VIETNAM|         0.0|        NULL|                  0|\n",
            "|    UH-1|    VIETNAM (SOUTH)| 1973-10-24|              NULL|          D|         PLEIKU|SOUTH VIETNAM|       800.0|        NULL|                  0|\n",
            "|    UH-1|    VIETNAM (SOUTH)| 1974-12-16|              NULL|          D|         PLEIKU|SOUTH VIETNAM|       800.0|        NULL|                  0|\n",
            "|     A-1|    VIETNAM (SOUTH)| 1970-04-27|              NULL|          D|       BIEN HOA|SOUTH VIETNAM|       800.0|        NULL|              77580|\n",
            "|    UH-1|    VIETNAM (SOUTH)| 1975-02-10|              NULL|          D|      NHA TRANG|SOUTH VIETNAM|       800.0|CARGO (TONS)|                  0|\n",
            "|    A-37|    VIETNAM (SOUTH)| 1971-03-03|              NULL|          D|      BINH THUY|SOUTH VIETNAM|       200.0|        NULL|                  0|\n",
            "|     O-1|    VIETNAM (SOUTH)| 1970-08-29|              NULL|          D|         DANANG|SOUTH VIETNAM|       800.0|        NULL|                  0|\n",
            "|     A-1|    VIETNAM (SOUTH)| 1971-07-29|              NULL|          D|         PLEIKU|SOUTH VIETNAM|      1020.0|        NULL|                  0|\n",
            "+--------+-------------------+-----------+------------------+-----------+---------------+-------------+------------+------------+-------------------+\n",
            "only showing top 20 rows\n",
            "\n"
          ]
        }
      ]
    },
    {
      "cell_type": "code",
      "source": [
        "Q2 = Bombing_Operations.where(\"ContryFlyingMission == 'VIETNAM (SOUTH)'\")"
      ],
      "metadata": {
        "id": "3Ihatb6r16Ji"
      },
      "execution_count": null,
      "outputs": []
    },
    {
      "cell_type": "code",
      "source": [
        "Q1 = Aircraft_Glossary.where(\"AirCraftType == 'Light Bomber'\")"
      ],
      "metadata": {
        "id": "QM9zxlfM3Y4j"
      },
      "execution_count": null,
      "outputs": []
    },
    {
      "cell_type": "code",
      "source": [
        "Q1.show()"
      ],
      "metadata": {
        "colab": {
          "base_uri": "https://localhost:8080/"
        },
        "id": "Obq32rGQ3aNT",
        "outputId": "650c95b3-99ef-465b-c6e8-fb7e7bf3d3a1"
      },
      "execution_count": null,
      "outputs": [
        {
          "output_type": "stream",
          "name": "stdout",
          "text": [
            "+--------+--------------------+------------+\n",
            "|AirCraft|        AirCraftName|AirCraftType|\n",
            "+--------+--------------------+------------+\n",
            "|    A-26|Douglas A-26 Invader|Light Bomber|\n",
            "|    B-66|Douglas B-66 Dest...|Light Bomber|\n",
            "|   RB-66|Douglas RB-66 Des...|Light Bomber|\n",
            "+--------+--------------------+------------+\n",
            "\n"
          ]
        }
      ]
    },
    {
      "cell_type": "code",
      "source": [
        "Q4 = Bombing_Operations.where(\"MissionDate >= '1971-01-01' AND MissionDate <= '1971-12-31'\")"
      ],
      "metadata": {
        "id": "DspucT0z328z"
      },
      "execution_count": null,
      "outputs": []
    },
    {
      "cell_type": "code",
      "source": [
        "Q4.show()"
      ],
      "metadata": {
        "colab": {
          "base_uri": "https://localhost:8080/"
        },
        "id": "j4FWHrEB3-W7",
        "outputId": "798faa2a-352d-4b3f-9578-b85974e49b3e"
      },
      "execution_count": null,
      "outputs": [
        {
          "output_type": "stream",
          "name": "stdout",
          "text": [
            "+--------+--------------------+-----------+------------------+-----------+---------------+-------------+------------+--------------------+-------------------+\n",
            "|AirCraft| ContryFlyingMission|MissionDate|OperationSupported|PeriodOfDay|TakeoffLocation|TargetCountry|TimeOnTarget|          WeaponType|WeaponsLoadedWeight|\n",
            "+--------+--------------------+-----------+------------------+-----------+---------------+-------------+------------+--------------------+-------------------+\n",
            "|   EC-47|UNITED STATES OF ...| 1971-06-05|              NULL|          D|   TAN SON NHUT|     CAMBODIA|      1005.0|                NULL|                  0|\n",
            "|     F-4|UNITED STATES OF ...| 1971-12-27|              NULL|       NULL|       UDORN AB|         LAOS|         0.0|                NULL|                  0|\n",
            "|     A-6|UNITED STATES OF ...| 1971-05-12|              NULL|          N|    TONKIN GULF|         LAOS|      1304.0|CBU24 AN PR/MT (B...|              33200|\n",
            "|   EB-66|UNITED STATES OF ...| 1971-12-03|              NULL|          N|          KORAT|         LAOS|      1445.0|                NULL|                  0|\n",
            "|    T-28|                LAOS| 1971-12-19|              NULL|          D|     SAVANAKHET|         LAOS|       230.0|                NULL|                  0|\n",
            "|   CH-47|     VIETNAM (SOUTH)| 1971-03-29|              NULL|          D|       BIEN HOA|SOUTH VIETNAM|       800.0|                NULL|                  0|\n",
            "|   AC-47|     VIETNAM (SOUTH)| 1971-09-20|              NULL|          N|      BINH THUY|SOUTH VIETNAM|      1315.0|                NULL|               7200|\n",
            "|  AC-130|UNITED STATES OF ...| 1971-10-05|              NULL|          D|        UBON AB|     CAMBODIA|       140.0|                NULL|               2850|\n",
            "|    A-37|UNITED STATES OF ...| 1971-12-13|              NULL|          D|       BIEN HOA|     CAMBODIA|       318.0|  LAU68 RKT LCHR (7)|               8440|\n",
            "|    A-37|     VIETNAM (SOUTH)| 1971-02-08|              NULL|          D|      BINH THUY|SOUTH VIETNAM|      1518.0|                NULL|              63720|\n",
            "|  AC-119|UNITED STATES OF ...| 1971-06-01|              NULL|          N|   TAN SON NHUT|     CAMBODIA|      1410.0|                NULL|                  0|\n",
            "|     F-4|UNITED STATES OF ...| 1971-06-23|              NULL|          D|        UBON AB|         LAOS|       820.0|                NULL|              61560|\n",
            "|     A-6|UNITED STATES OF ...| 1971-08-11|              NULL|          D|    TONKIN GULF|         LAOS|       805.0|                NULL|                  0|\n",
            "|     F-4|UNITED STATES OF ...| 1971-09-09|              NULL|          D|        UBON AB|SOUTH VIETNAM|       844.0|                NULL|                  0|\n",
            "|     F-4|UNITED STATES OF ...| 1971-02-13|              NULL|          D|          KORAT|         LAOS|       545.0|                NULL|                  0|\n",
            "|    A-37|     VIETNAM (SOUTH)| 1971-04-02|              NULL|          D|      BINH THUY|SOUTH VIETNAM|       720.0|                NULL|                  0|\n",
            "|   EC-47|UNITED STATES OF ...| 1971-09-27|              NULL|       NULL|   TAN SON NHUT|     CAMBODIA|         0.0|                NULL|                  0|\n",
            "|     A-6|UNITED STATES OF ...| 1971-03-03|              NULL|          D|    TONKIN GULF|         LAOS|       316.0| MK83 GP BOMB (1000)|              11000|\n",
            "|    B-57|UNITED STATES OF ...| 1971-06-24|              NULL|          N|        UBON AB|         LAOS|      1530.0|                NULL|                  0|\n",
            "|  AC-119|UNITED STATES OF ...| 1971-02-17|              NULL|          D|   TAN SON NHUT|     CAMBODIA|       430.0|                NULL|                  0|\n",
            "+--------+--------------------+-----------+------------------+-----------+---------------+-------------+------------+--------------------+-------------------+\n",
            "only showing top 20 rows\n",
            "\n"
          ]
        }
      ]
    },
    {
      "cell_type": "code",
      "source": [
        "df_q3 = Bombing_Operations.groupBy(\"ContryFlyingMission\").agg(count(\"*\").alias(\"NumberOfMissions\"))"
      ],
      "metadata": {
        "id": "RUWYSpyK5M_L"
      },
      "execution_count": null,
      "outputs": []
    },
    {
      "cell_type": "code",
      "source": [
        "df_q3.sort(desc(\"NumberOfMissions\")).show()"
      ],
      "metadata": {
        "colab": {
          "base_uri": "https://localhost:8080/"
        },
        "id": "h5FeLlcv5Rea",
        "outputId": "8bdc673f-af35-45cf-84ff-409460d06327"
      },
      "execution_count": null,
      "outputs": [
        {
          "output_type": "stream",
          "name": "stdout",
          "text": [
            "+--------------------+----------------+\n",
            "| ContryFlyingMission|NumberOfMissions|\n",
            "+--------------------+----------------+\n",
            "|UNITED STATES OF ...|         3708997|\n",
            "|     VIETNAM (SOUTH)|          622013|\n",
            "|                LAOS|           32777|\n",
            "|       KOREA (SOUTH)|           24469|\n",
            "|           AUSTRALIA|           12519|\n",
            "+--------------------+----------------+\n",
            "\n"
          ]
        }
      ]
    },
    {
      "cell_type": "code",
      "source": [
        "df_q5 = Bombing_Operations.groupBy([\"MissionDate\",\"TargetCountry\"]).agg(avg(\"TimeOnTarget\").alias(\"Avg.Time\")).sort(\"MissionDate\",\"TargetCountry\")"
      ],
      "metadata": {
        "id": "Z8oYfRo55xGw"
      },
      "execution_count": null,
      "outputs": []
    },
    {
      "cell_type": "code",
      "source": [
        "df_q5.show()"
      ],
      "metadata": {
        "colab": {
          "base_uri": "https://localhost:8080/"
        },
        "id": "jz7AawXD746r",
        "outputId": "497dbf2e-04f6-489c-e32d-c6c000170b70"
      },
      "execution_count": null,
      "outputs": [
        {
          "output_type": "stream",
          "name": "stdout",
          "text": [
            "+-----------+-------------+------------------+\n",
            "|MissionDate|TargetCountry|          Avg.Time|\n",
            "+-----------+-------------+------------------+\n",
            "| 1965-10-01|         LAOS|            1203.0|\n",
            "| 1965-10-01|NORTH VIETNAM| 1183.111111111111|\n",
            "| 1965-10-01|SOUTH VIETNAM|1275.3181818181818|\n",
            "| 1965-10-02|         LAOS|1351.0833333333333|\n",
            "| 1965-10-02|NORTH VIETNAM|1235.1684981684982|\n",
            "| 1965-10-02|SOUTH VIETNAM|1216.1370262390672|\n",
            "| 1965-10-03|         LAOS|1037.7777777777778|\n",
            "| 1965-10-03|NORTH VIETNAM|1144.1968503937007|\n",
            "| 1965-10-03|SOUTH VIETNAM| 1267.709480122324|\n",
            "| 1965-10-04|         LAOS| 998.3181818181819|\n",
            "| 1965-10-04|NORTH VIETNAM|1281.5868725868727|\n",
            "| 1965-10-04|SOUTH VIETNAM|1131.0796812749004|\n",
            "| 1965-10-05|         LAOS|1301.1666666666667|\n",
            "| 1965-10-05|NORTH VIETNAM| 1240.695652173913|\n",
            "| 1965-10-05|SOUTH VIETNAM|1239.5200803212851|\n",
            "| 1965-10-06|         LAOS|1190.0461538461539|\n",
            "| 1965-10-06|NORTH VIETNAM| 981.1253918495298|\n",
            "| 1965-10-06|SOUTH VIETNAM|1266.1638418079096|\n",
            "| 1965-10-07|         LAOS| 972.7857142857143|\n",
            "| 1965-10-07|NORTH VIETNAM| 891.5697674418604|\n",
            "+-----------+-------------+------------------+\n",
            "only showing top 20 rows\n",
            "\n"
          ]
        }
      ]
    },
    {
      "cell_type": "code",
      "source": [
        "df_q6 = Bombing_Operations.groupBy(\"AirCraft\").agg(count(\"*\").alias(\"NumberOfMissions\")).sort(\"NumberOfMissions\")"
      ],
      "metadata": {
        "id": "OJAj8gor8XM7"
      },
      "execution_count": null,
      "outputs": []
    },
    {
      "cell_type": "code",
      "source": [
        "df_q6.show()"
      ],
      "metadata": {
        "colab": {
          "base_uri": "https://localhost:8080/"
        },
        "id": "93jEL0xj9fgU",
        "outputId": "498a3e5a-c442-4cb6-97b2-5d18677d4681"
      },
      "execution_count": null,
      "outputs": [
        {
          "output_type": "stream",
          "name": "stdout",
          "text": [
            "+--------+----------------+\n",
            "|AirCraft|NumberOfMissions|\n",
            "+--------+----------------+\n",
            "|  LC-130|               1|\n",
            "|    U-1A|               1|\n",
            "|     E-3|               1|\n",
            "|    C-76|               1|\n",
            "|     R64|               1|\n",
            "|     R44|               1|\n",
            "|     P41|               1|\n",
            "|   C-121|               1|\n",
            "|   UH-34|               2|\n",
            "|  UC-130|               2|\n",
            "|  EC-211|               2|\n",
            "|     B-1|               2|\n",
            "|    F-10|               2|\n",
            "|    H-47|               3|\n",
            "|      T9|               4|\n",
            "|      A8|               4|\n",
            "|    F-14|               5|\n",
            "|    U-10|               5|\n",
            "|  NC-123|               7|\n",
            "|     A-5|               8|\n",
            "+--------+----------------+\n",
            "only showing top 20 rows\n",
            "\n"
          ]
        }
      ]
    },
    {
      "cell_type": "code",
      "source": [
        "df_q7 = Bombing_Operations.groupBy(\"AirCraft\").agg(max(\"TimeOnTarget\").alias(\"Max.Time\")).sort(\"AirCraft\")\n"
      ],
      "metadata": {
        "id": "6EsSTqYT93Pc"
      },
      "execution_count": null,
      "outputs": []
    },
    {
      "cell_type": "code",
      "source": [
        "df_q7.show()"
      ],
      "metadata": {
        "colab": {
          "base_uri": "https://localhost:8080/"
        },
        "id": "3DG3QWbS-mgj",
        "outputId": "8e951462-f690-4f15-948c-e9859e3b1845"
      },
      "execution_count": null,
      "outputs": [
        {
          "output_type": "stream",
          "name": "stdout",
          "text": [
            "+--------+--------+\n",
            "|AirCraft|Max.Time|\n",
            "+--------+--------+\n",
            "|     A-1|  8033.0|\n",
            "|    A-26|  2400.0|\n",
            "|     A-3|  2356.0|\n",
            "|    A-37|  2359.0|\n",
            "|     A-4|  6391.0|\n",
            "|     A-5|  1705.0|\n",
            "|     A-6|  2359.0|\n",
            "|     A-7|  2359.0|\n",
            "|      A8|   800.0|\n",
            "|  AC-119|  2359.0|\n",
            "|  AC-123|  2145.0|\n",
            "|  AC-130|  2448.0|\n",
            "|   AC-47|  2400.0|\n",
            "|    AH-1|  2350.0|\n",
            "|   AU-24|  1400.0|\n",
            "|     B-1|  1950.0|\n",
            "|    B-52|  2400.0|\n",
            "|    B-57|  2500.0|\n",
            "|    B-66|  2359.0|\n",
            "|     C-1|   810.0|\n",
            "+--------+--------+\n",
            "only showing top 20 rows\n",
            "\n"
          ]
        }
      ]
    },
    {
      "cell_type": "code",
      "source": [
        "df_q7 = Bombing_Operations.groupBy(\"AirCraft\", \"TargetCountry\")\n",
        "    .agg(F.max(\"TimeOnTarget\").alias(\"Max.AttackTime\"))\n",
        "    .sort(\"AirCraft\", \"TargetCountry\")"
      ],
      "metadata": {
        "id": "plbHDGikAbks"
      },
      "execution_count": null,
      "outputs": []
    },
    {
      "cell_type": "code",
      "source": [
        "df_q3 = Bombing_Operations.groupBy(\"ContryFlyingMission\").agg(count(\"*\").alias(\"NumberOfMissions\"))"
      ],
      "metadata": {
        "id": "XlayYqfYyEwL"
      },
      "execution_count": null,
      "outputs": []
    },
    {
      "cell_type": "code",
      "source": [
        "df_q3.sort(desc(\"NumberOfMissions\")).show()"
      ],
      "metadata": {
        "colab": {
          "base_uri": "https://localhost:8080/"
        },
        "id": "Hwv6k8DRyIo0",
        "outputId": "113baa5e-7cea-46b9-8a7a-40af9299525b"
      },
      "execution_count": null,
      "outputs": [
        {
          "output_type": "stream",
          "name": "stdout",
          "text": [
            "+--------------------+----------------+\n",
            "| ContryFlyingMission|NumberOfMissions|\n",
            "+--------------------+----------------+\n",
            "|UNITED STATES OF ...|         3708997|\n",
            "|     VIETNAM (SOUTH)|          622013|\n",
            "|                LAOS|           32777|\n",
            "|       KOREA (SOUTH)|           24469|\n",
            "|           AUSTRALIA|           12519|\n",
            "+--------------------+----------------+\n",
            "\n"
          ]
        }
      ]
    },
    {
      "cell_type": "code",
      "source": [
        "mission_count_pd = df_q3.toPandas()\n",
        "mission_count_pd.head()"
      ],
      "metadata": {
        "colab": {
          "base_uri": "https://localhost:8080/",
          "height": 206
        },
        "id": "a2T1r1gax1aB",
        "outputId": "87a757b0-f287-458a-88d2-10ccc3d6955f"
      },
      "execution_count": null,
      "outputs": [
        {
          "output_type": "execute_result",
          "data": {
            "text/plain": [
              "        ContryFlyingMission  NumberOfMissions\n",
              "0           VIETNAM (SOUTH)            622013\n",
              "1             KOREA (SOUTH)             24469\n",
              "2  UNITED STATES OF AMERICA           3708997\n",
              "3                 AUSTRALIA             12519\n",
              "4                      LAOS             32777"
            ],
            "text/html": [
              "\n",
              "  <div id=\"df-6a712af3-9a25-4000-bf83-bbf03af3fb52\" class=\"colab-df-container\">\n",
              "    <div>\n",
              "<style scoped>\n",
              "    .dataframe tbody tr th:only-of-type {\n",
              "        vertical-align: middle;\n",
              "    }\n",
              "\n",
              "    .dataframe tbody tr th {\n",
              "        vertical-align: top;\n",
              "    }\n",
              "\n",
              "    .dataframe thead th {\n",
              "        text-align: right;\n",
              "    }\n",
              "</style>\n",
              "<table border=\"1\" class=\"dataframe\">\n",
              "  <thead>\n",
              "    <tr style=\"text-align: right;\">\n",
              "      <th></th>\n",
              "      <th>ContryFlyingMission</th>\n",
              "      <th>NumberOfMissions</th>\n",
              "    </tr>\n",
              "  </thead>\n",
              "  <tbody>\n",
              "    <tr>\n",
              "      <th>0</th>\n",
              "      <td>VIETNAM (SOUTH)</td>\n",
              "      <td>622013</td>\n",
              "    </tr>\n",
              "    <tr>\n",
              "      <th>1</th>\n",
              "      <td>KOREA (SOUTH)</td>\n",
              "      <td>24469</td>\n",
              "    </tr>\n",
              "    <tr>\n",
              "      <th>2</th>\n",
              "      <td>UNITED STATES OF AMERICA</td>\n",
              "      <td>3708997</td>\n",
              "    </tr>\n",
              "    <tr>\n",
              "      <th>3</th>\n",
              "      <td>AUSTRALIA</td>\n",
              "      <td>12519</td>\n",
              "    </tr>\n",
              "    <tr>\n",
              "      <th>4</th>\n",
              "      <td>LAOS</td>\n",
              "      <td>32777</td>\n",
              "    </tr>\n",
              "  </tbody>\n",
              "</table>\n",
              "</div>\n",
              "    <div class=\"colab-df-buttons\">\n",
              "\n",
              "  <div class=\"colab-df-container\">\n",
              "    <button class=\"colab-df-convert\" onclick=\"convertToInteractive('df-6a712af3-9a25-4000-bf83-bbf03af3fb52')\"\n",
              "            title=\"Convert this dataframe to an interactive table.\"\n",
              "            style=\"display:none;\">\n",
              "\n",
              "  <svg xmlns=\"http://www.w3.org/2000/svg\" height=\"24px\" viewBox=\"0 -960 960 960\">\n",
              "    <path d=\"M120-120v-720h720v720H120Zm60-500h600v-160H180v160Zm220 220h160v-160H400v160Zm0 220h160v-160H400v160ZM180-400h160v-160H180v160Zm440 0h160v-160H620v160ZM180-180h160v-160H180v160Zm440 0h160v-160H620v160Z\"/>\n",
              "  </svg>\n",
              "    </button>\n",
              "\n",
              "  <style>\n",
              "    .colab-df-container {\n",
              "      display:flex;\n",
              "      gap: 12px;\n",
              "    }\n",
              "\n",
              "    .colab-df-convert {\n",
              "      background-color: #E8F0FE;\n",
              "      border: none;\n",
              "      border-radius: 50%;\n",
              "      cursor: pointer;\n",
              "      display: none;\n",
              "      fill: #1967D2;\n",
              "      height: 32px;\n",
              "      padding: 0 0 0 0;\n",
              "      width: 32px;\n",
              "    }\n",
              "\n",
              "    .colab-df-convert:hover {\n",
              "      background-color: #E2EBFA;\n",
              "      box-shadow: 0px 1px 2px rgba(60, 64, 67, 0.3), 0px 1px 3px 1px rgba(60, 64, 67, 0.15);\n",
              "      fill: #174EA6;\n",
              "    }\n",
              "\n",
              "    .colab-df-buttons div {\n",
              "      margin-bottom: 4px;\n",
              "    }\n",
              "\n",
              "    [theme=dark] .colab-df-convert {\n",
              "      background-color: #3B4455;\n",
              "      fill: #D2E3FC;\n",
              "    }\n",
              "\n",
              "    [theme=dark] .colab-df-convert:hover {\n",
              "      background-color: #434B5C;\n",
              "      box-shadow: 0px 1px 3px 1px rgba(0, 0, 0, 0.15);\n",
              "      filter: drop-shadow(0px 1px 2px rgba(0, 0, 0, 0.3));\n",
              "      fill: #FFFFFF;\n",
              "    }\n",
              "  </style>\n",
              "\n",
              "    <script>\n",
              "      const buttonEl =\n",
              "        document.querySelector('#df-6a712af3-9a25-4000-bf83-bbf03af3fb52 button.colab-df-convert');\n",
              "      buttonEl.style.display =\n",
              "        google.colab.kernel.accessAllowed ? 'block' : 'none';\n",
              "\n",
              "      async function convertToInteractive(key) {\n",
              "        const element = document.querySelector('#df-6a712af3-9a25-4000-bf83-bbf03af3fb52');\n",
              "        const dataTable =\n",
              "          await google.colab.kernel.invokeFunction('convertToInteractive',\n",
              "                                                    [key], {});\n",
              "        if (!dataTable) return;\n",
              "\n",
              "        const docLinkHtml = 'Like what you see? Visit the ' +\n",
              "          '<a target=\"_blank\" href=https://colab.research.google.com/notebooks/data_table.ipynb>data table notebook</a>'\n",
              "          + ' to learn more about interactive tables.';\n",
              "        element.innerHTML = '';\n",
              "        dataTable['output_type'] = 'display_data';\n",
              "        await google.colab.output.renderOutput(dataTable, element);\n",
              "        const docLink = document.createElement('div');\n",
              "        docLink.innerHTML = docLinkHtml;\n",
              "        element.appendChild(docLink);\n",
              "      }\n",
              "    </script>\n",
              "  </div>\n",
              "\n",
              "\n",
              "<div id=\"df-d55a5e61-8bfa-49f6-94e9-07ee61a8bb43\">\n",
              "  <button class=\"colab-df-quickchart\" onclick=\"quickchart('df-d55a5e61-8bfa-49f6-94e9-07ee61a8bb43')\"\n",
              "            title=\"Suggest charts\"\n",
              "            style=\"display:none;\">\n",
              "\n",
              "<svg xmlns=\"http://www.w3.org/2000/svg\" height=\"24px\"viewBox=\"0 0 24 24\"\n",
              "     width=\"24px\">\n",
              "    <g>\n",
              "        <path d=\"M19 3H5c-1.1 0-2 .9-2 2v14c0 1.1.9 2 2 2h14c1.1 0 2-.9 2-2V5c0-1.1-.9-2-2-2zM9 17H7v-7h2v7zm4 0h-2V7h2v10zm4 0h-2v-4h2v4z\"/>\n",
              "    </g>\n",
              "</svg>\n",
              "  </button>\n",
              "\n",
              "<style>\n",
              "  .colab-df-quickchart {\n",
              "      --bg-color: #E8F0FE;\n",
              "      --fill-color: #1967D2;\n",
              "      --hover-bg-color: #E2EBFA;\n",
              "      --hover-fill-color: #174EA6;\n",
              "      --disabled-fill-color: #AAA;\n",
              "      --disabled-bg-color: #DDD;\n",
              "  }\n",
              "\n",
              "  [theme=dark] .colab-df-quickchart {\n",
              "      --bg-color: #3B4455;\n",
              "      --fill-color: #D2E3FC;\n",
              "      --hover-bg-color: #434B5C;\n",
              "      --hover-fill-color: #FFFFFF;\n",
              "      --disabled-bg-color: #3B4455;\n",
              "      --disabled-fill-color: #666;\n",
              "  }\n",
              "\n",
              "  .colab-df-quickchart {\n",
              "    background-color: var(--bg-color);\n",
              "    border: none;\n",
              "    border-radius: 50%;\n",
              "    cursor: pointer;\n",
              "    display: none;\n",
              "    fill: var(--fill-color);\n",
              "    height: 32px;\n",
              "    padding: 0;\n",
              "    width: 32px;\n",
              "  }\n",
              "\n",
              "  .colab-df-quickchart:hover {\n",
              "    background-color: var(--hover-bg-color);\n",
              "    box-shadow: 0 1px 2px rgba(60, 64, 67, 0.3), 0 1px 3px 1px rgba(60, 64, 67, 0.15);\n",
              "    fill: var(--button-hover-fill-color);\n",
              "  }\n",
              "\n",
              "  .colab-df-quickchart-complete:disabled,\n",
              "  .colab-df-quickchart-complete:disabled:hover {\n",
              "    background-color: var(--disabled-bg-color);\n",
              "    fill: var(--disabled-fill-color);\n",
              "    box-shadow: none;\n",
              "  }\n",
              "\n",
              "  .colab-df-spinner {\n",
              "    border: 2px solid var(--fill-color);\n",
              "    border-color: transparent;\n",
              "    border-bottom-color: var(--fill-color);\n",
              "    animation:\n",
              "      spin 1s steps(1) infinite;\n",
              "  }\n",
              "\n",
              "  @keyframes spin {\n",
              "    0% {\n",
              "      border-color: transparent;\n",
              "      border-bottom-color: var(--fill-color);\n",
              "      border-left-color: var(--fill-color);\n",
              "    }\n",
              "    20% {\n",
              "      border-color: transparent;\n",
              "      border-left-color: var(--fill-color);\n",
              "      border-top-color: var(--fill-color);\n",
              "    }\n",
              "    30% {\n",
              "      border-color: transparent;\n",
              "      border-left-color: var(--fill-color);\n",
              "      border-top-color: var(--fill-color);\n",
              "      border-right-color: var(--fill-color);\n",
              "    }\n",
              "    40% {\n",
              "      border-color: transparent;\n",
              "      border-right-color: var(--fill-color);\n",
              "      border-top-color: var(--fill-color);\n",
              "    }\n",
              "    60% {\n",
              "      border-color: transparent;\n",
              "      border-right-color: var(--fill-color);\n",
              "    }\n",
              "    80% {\n",
              "      border-color: transparent;\n",
              "      border-right-color: var(--fill-color);\n",
              "      border-bottom-color: var(--fill-color);\n",
              "    }\n",
              "    90% {\n",
              "      border-color: transparent;\n",
              "      border-bottom-color: var(--fill-color);\n",
              "    }\n",
              "  }\n",
              "</style>\n",
              "\n",
              "  <script>\n",
              "    async function quickchart(key) {\n",
              "      const quickchartButtonEl =\n",
              "        document.querySelector('#' + key + ' button');\n",
              "      quickchartButtonEl.disabled = true;  // To prevent multiple clicks.\n",
              "      quickchartButtonEl.classList.add('colab-df-spinner');\n",
              "      try {\n",
              "        const charts = await google.colab.kernel.invokeFunction(\n",
              "            'suggestCharts', [key], {});\n",
              "      } catch (error) {\n",
              "        console.error('Error during call to suggestCharts:', error);\n",
              "      }\n",
              "      quickchartButtonEl.classList.remove('colab-df-spinner');\n",
              "      quickchartButtonEl.classList.add('colab-df-quickchart-complete');\n",
              "    }\n",
              "    (() => {\n",
              "      let quickchartButtonEl =\n",
              "        document.querySelector('#df-d55a5e61-8bfa-49f6-94e9-07ee61a8bb43 button');\n",
              "      quickchartButtonEl.style.display =\n",
              "        google.colab.kernel.accessAllowed ? 'block' : 'none';\n",
              "    })();\n",
              "  </script>\n",
              "</div>\n",
              "\n",
              "    </div>\n",
              "  </div>\n"
            ],
            "application/vnd.google.colaboratory.intrinsic+json": {
              "type": "dataframe",
              "variable_name": "mission_count_pd",
              "summary": "{\n  \"name\": \"mission_count_pd\",\n  \"rows\": 5,\n  \"fields\": [\n    {\n      \"column\": \"ContryFlyingMission\",\n      \"properties\": {\n        \"dtype\": \"string\",\n        \"num_unique_values\": 5,\n        \"samples\": [\n          \"KOREA (SOUTH)\",\n          \"LAOS\",\n          \"UNITED STATES OF AMERICA\"\n        ],\n        \"semantic_type\": \"\",\n        \"description\": \"\"\n      }\n    },\n    {\n      \"column\": \"NumberOfMissions\",\n      \"properties\": {\n        \"dtype\": \"number\",\n        \"std\": 1602499,\n        \"min\": 12519,\n        \"max\": 3708997,\n        \"num_unique_values\": 5,\n        \"samples\": [\n          24469,\n          32777,\n          3708997\n        ],\n        \"semantic_type\": \"\",\n        \"description\": \"\"\n      }\n    }\n  ]\n}"
            }
          },
          "metadata": {},
          "execution_count": 41
        }
      ]
    },
    {
      "cell_type": "code",
      "source": [
        "mission_count_pd.plot(kind=\"bar\", x= \"ContryFlyingMission\", y=\"NumberOfMissions\")"
      ],
      "metadata": {
        "colab": {
          "base_uri": "https://localhost:8080/",
          "height": 666
        },
        "id": "mhT0KefZy9fM",
        "outputId": "f0ccaaba-bd73-4435-b3ac-25996ef4b3f1"
      },
      "execution_count": null,
      "outputs": [
        {
          "output_type": "execute_result",
          "data": {
            "text/plain": [
              "<Axes: xlabel='ContryFlyingMission'>"
            ]
          },
          "metadata": {},
          "execution_count": 42
        },
        {
          "output_type": "display_data",
          "data": {
            "text/plain": [
              "<Figure size 640x480 with 1 Axes>"
            ],
            "image/png": "[encoded data removed]"
          },
          "metadata": {}
        }
      ]
    },
    {
      "cell_type": "code",
      "source": [
        "Bombing_Operations.createOrReplaceTempView(\"Bombing_operations\")\n",
        "\n",
        "query = \"\"\" SELECT ContryFlyingMission, count(*) as NumberOfMissions\n",
        "            FROM Bombing_Operations\n",
        "            GROUP BY ContryFlyingMission\n",
        "            ORDER BY NumberOfMissions desc\n",
        "        \"\"\"\n",
        "\n",
        "missions_count = spark.sql(query)"
      ],
      "metadata": {
        "id": "PUGTwpx20Qp7"
      },
      "execution_count": null,
      "outputs": []
    },
    {
      "cell_type": "code",
      "source": [
        "missions_count.show()"
      ],
      "metadata": {
        "colab": {
          "base_uri": "https://localhost:8080/"
        },
        "id": "aYKXqGRB0WYk",
        "outputId": "439a24a6-39aa-4b1f-fc06-c251737b9f5e"
      },
      "execution_count": null,
      "outputs": [
        {
          "output_type": "stream",
          "name": "stdout",
          "text": [
            "+--------------------+----------------+\n",
            "| ContryFlyingMission|NumberOfMissions|\n",
            "+--------------------+----------------+\n",
            "|UNITED STATES OF ...|         3708997|\n",
            "|     VIETNAM (SOUTH)|          622013|\n",
            "|                LAOS|           32777|\n",
            "|       KOREA (SOUTH)|           24469|\n",
            "|           AUSTRALIA|           12519|\n",
            "+--------------------+----------------+\n",
            "\n"
          ]
        }
      ]
    },
    {
      "cell_type": "code",
      "source": [
        "join_results = Bombing_Operations.join(Aircraft_Glossary, Bombing_Operations.AirCraft == Aircraft_Glossary.AirCraft)"
      ],
      "metadata": {
        "id": "kJaIlFC50f3F"
      },
      "execution_count": null,
      "outputs": []
    },
    {
      "cell_type": "code",
      "source": [
        "join_results.show()"
      ],
      "metadata": {
        "colab": {
          "base_uri": "https://localhost:8080/"
        },
        "id": "F0DlE2un0lHT",
        "outputId": "eef6c365-3151-47a4-b44c-b5ffe94524b6"
      },
      "execution_count": null,
      "outputs": [
        {
          "output_type": "stream",
          "name": "stdout",
          "text": [
            "+--------+--------------------+-----------+------------------+-----------+---------------+-------------+------------+--------------------+-------------------+--------+--------------------+--------------------+\n",
            "|AirCraft| ContryFlyingMission|MissionDate|OperationSupported|PeriodOfDay|TakeoffLocation|TargetCountry|TimeOnTarget|          WeaponType|WeaponsLoadedWeight|AirCraft|        AirCraftName|        AirCraftType|\n",
            "+--------+--------------------+-----------+------------------+-----------+---------------+-------------+------------+--------------------+-------------------+--------+--------------------+--------------------+\n",
            "|   EC-47|UNITED STATES OF ...| 1971-06-05|              NULL|          D|   TAN SON NHUT|     CAMBODIA|      1005.0|                NULL|                  0|   EC-47|Douglas C-47 Skyt...|Military Transpor...|\n",
            "|   EC-47|UNITED STATES OF ...| 1972-12-26|              NULL|          D|  NAKHON PHANOM|SOUTH VIETNAM|       530.0|                NULL|                  0|   EC-47|Douglas C-47 Skyt...|Military Transpor...|\n",
            "|    RF-4|UNITED STATES OF ...| 1973-07-28|              NULL|          D|       UDORN AB|         LAOS|       730.0|                NULL|                  0|    RF-4|McDonnell F-4 Pha...|  Fighter bomber jet|\n",
            "|     A-1|UNITED STATES OF ...| 1970-02-02|              NULL|          N|  NAKHON PHANOM|         LAOS|      1415.0|BLU27 FIRE BOMB (...|              17400|     A-1|Douglas A-1 Skyra...|         Fighter Jet|\n",
            "|    A-37|     VIETNAM (SOUTH)| 1970-10-08|              NULL|          D|         DANANG|SOUTH VIETNAM|      1240.0|                NULL|                  0|    A-37|Cessna A-37 Drago...|Light ground-atta...|\n",
            "|     F-4|UNITED STATES OF ...| 1970-11-25|              NULL|          D|        UBON AB|         LAOS|       650.0|MK 82 GP BOMB (50...|              31860|     F-4|McDonnell Douglas...|  Fighter Jet Bomber|\n",
            "|     A-4|UNITED STATES OF ...| 1972-03-08|              NULL|          D|    TONKIN GULF|         LAOS|      1005.0|                NULL|                  0|     A-4|McDonnell Douglas...|         Fighter Jet|\n",
            "|     F-4|UNITED STATES OF ...| 1971-12-27|              NULL|       NULL|       UDORN AB|         LAOS|         0.0|                NULL|                  0|     F-4|McDonnell Douglas...|  Fighter Jet Bomber|\n",
            "|     A-7|UNITED STATES OF ...| 1972-05-24|              NULL|       NULL|    TONKIN GULF|NORTH VIETNAM|         0.0|                NULL|                  0|     A-7|  LTV A-7 Corsair II|     Attack Aircraft|\n",
            "|   EC-47|UNITED STATES OF ...| 1972-09-12|              NULL|          D|   TAN SON NHUT|SOUTH VIETNAM|       710.0|                NULL|                  0|   EC-47|Douglas C-47 Skyt...|Military Transpor...|\n",
            "|   CH-53|UNITED STATES OF ...| 1974-06-13|              NULL|          N|  NAKHON PHANOM|     THAILAND|      1800.0|                NULL|                  0|   CH-53|Sikorsky CH-53 Se...|Heavy-lift cargo ...|\n",
            "|   CH-53|UNITED STATES OF ...| 1974-12-19|              NULL|          D|  NAKHON PHANOM|     THAILAND|       800.0|                NULL|                  0|   CH-53|Sikorsky CH-53 Se...|Heavy-lift cargo ...|\n",
            "|     O-1|     VIETNAM (SOUTH)| 1973-10-24|              NULL|          D|      NHA TRANG|SOUTH VIETNAM|       800.0|                NULL|                  0|     O-1| Cessna O-1 Bird Dog|Observation Aircraft|\n",
            "|    UH-1|     VIETNAM (SOUTH)| 1974-03-19|              NULL|          D|        PHU CAT|SOUTH VIETNAM|       800.0|        CARGO (TONS)|                  0|    UH-1|  Bell UH-1 Iroquois|  Utility Helicopter|\n",
            "|     C-7|UNITED STATES OF ...| 1970-05-08|              NULL|          D|   TAN SON NHUT|SOUTH VIETNAM|       800.0|                NULL|                  0|     C-7|       C-7A Caribou |Military Transpor...|\n",
            "|     A-6|UNITED STATES OF ...| 1971-05-12|              NULL|          N|    TONKIN GULF|         LAOS|      1304.0|CBU24 AN PR/MT (B...|              33200|     A-6|Grumman A-6 Intruder|     Attack Aircraft|\n",
            "|   EB-66|UNITED STATES OF ...| 1971-12-03|              NULL|          N|          KORAT|         LAOS|      1445.0|                NULL|                  0|   EB-66|Douglas B-66 Dest...|Light Tactical Bo...|\n",
            "|    T-28|                LAOS| 1971-12-19|              NULL|          D|     SAVANAKHET|         LAOS|       230.0|                NULL|                  0|    T-28| T-28 Trojan Trainer|   Training Aircraft|\n",
            "|     A-6|UNITED STATES OF ...| 1972-08-18|              NULL|       NULL|    TONKIN GULF|NORTH VIETNAM|         0.0|                NULL|                  0|     A-6|Grumman A-6 Intruder|     Attack Aircraft|\n",
            "|     A-7|UNITED STATES OF ...| 1972-10-15|              NULL|          D|    TONKIN GULF|NORTH VIETNAM|       110.0|                NULL|                  0|     A-7|  LTV A-7 Corsair II|     Attack Aircraft|\n",
            "+--------+--------------------+-----------+------------------+-----------+---------------+-------------+------------+--------------------+-------------------+--------+--------------------+--------------------+\n",
            "only showing top 20 rows\n",
            "\n"
          ]
        }
      ]
    },
    {
      "cell_type": "code",
      "source": [
        "missionsPerAircraftType = join_results.groupBy(\"AirCraftType\").agg(count(\"*\").alias(\"NumOperations\")).sort(\"AirCraftType\")\n",
        "missionsPerAircraftType.show()"
      ],
      "metadata": {
        "colab": {
          "base_uri": "https://localhost:8080/"
        },
        "id": "P2swjbXh1MFQ",
        "outputId": "276f2d9e-e059-487a-8dc7-5962a222b31a"
      },
      "execution_count": null,
      "outputs": [
        {
          "output_type": "stream",
          "name": "stdout",
          "text": [
            "+--------------------+-------------+\n",
            "|        AirCraftType|NumOperations|\n",
            "+--------------------+-------------+\n",
            "|Aerial refuelling...|         8266|\n",
            "|Airborne early wa...|        17226|\n",
            "| Airliner/ Transport|            1|\n",
            "|Airliner/transpor...|          397|\n",
            "|     Attack Aircraft|       315246|\n",
            "|          Bomber Jet|            8|\n",
            "|    Cargo Helicopter|         2571|\n",
            "|    Cargo Prop plane|          176|\n",
            "|Carrier-base all-...|            2|\n",
            "|Carrier-based Ear...|         1498|\n",
            "|Carrier-based Fig...|        58691|\n",
            "|Close -Support He...|         2174|\n",
            "|Close air support...|          921|\n",
            "|Early Warning air...|         1380|\n",
            "|         Fighter Jet|       882594|\n",
            "|  Fighter Jet Bomber|      1073126|\n",
            "|  Fighter Prop Plane|         3882|\n",
            "|  Fighter bomber jet|       242231|\n",
            "|        Fighter jet |        10322|\n",
            "|Fixed wing ground...|        75058|\n",
            "+--------------------+-------------+\n",
            "only showing top 20 rows\n",
            "\n"
          ]
        }
      ]
    },
    {
      "cell_type": "code",
      "source": [
        "missionsPerAircraftType.cache()"
      ],
      "metadata": {
        "colab": {
          "base_uri": "https://localhost:8080/"
        },
        "id": "lb_nANdS1WLr",
        "outputId": "8e74813a-581e-4e6f-87eb-e9bd3027693d"
      },
      "execution_count": null,
      "outputs": [
        {
          "output_type": "execute_result",
          "data": {
            "text/plain": [
              "DataFrame[AirCraftType: string, NumOperations: bigint]"
            ]
          },
          "metadata": {},
          "execution_count": 48
        }
      ]
    },
    {
      "cell_type": "code",
      "source": [
        "%time missionsPerAircraftType.show()"
      ],
      "metadata": {
        "colab": {
          "base_uri": "https://localhost:8080/"
        },
        "id": "PhGQMN4S1aX8",
        "outputId": "8f036b9c-3eb5-4070-dd9f-f0beed27dbcd"
      },
      "execution_count": null,
      "outputs": [
        {
          "output_type": "stream",
          "name": "stdout",
          "text": [
            "+--------------------+-------------+\n",
            "|        AirCraftType|NumOperations|\n",
            "+--------------------+-------------+\n",
            "|Aerial refuelling...|         8266|\n",
            "|Airborne early wa...|        17226|\n",
            "| Airliner/ Transport|            1|\n",
            "|Airliner/transpor...|          397|\n",
            "|     Attack Aircraft|       315246|\n",
            "|          Bomber Jet|            8|\n",
            "|    Cargo Helicopter|         2571|\n",
            "|    Cargo Prop plane|          176|\n",
            "|Carrier-base all-...|            2|\n",
            "|Carrier-based Ear...|         1498|\n",
            "|Carrier-based Fig...|        58691|\n",
            "|Close -Support He...|         2174|\n",
            "|Close air support...|          921|\n",
            "|Early Warning air...|         1380|\n",
            "|         Fighter Jet|       882594|\n",
            "|  Fighter Jet Bomber|      1073126|\n",
            "|  Fighter Prop Plane|         3882|\n",
            "|  Fighter bomber jet|       242231|\n",
            "|        Fighter jet |        10322|\n",
            "|Fixed wing ground...|        75058|\n",
            "+--------------------+-------------+\n",
            "only showing top 20 rows\n",
            "\n",
            "CPU times: user 138 ms, sys: 13.5 ms, total: 151 ms\n",
            "Wall time: 24.1 s\n"
          ]
        }
      ]
    },
    {
      "cell_type": "code",
      "source": [
        "missionsPerAircraftType.write.mode('overwrite').json(\"missionsPerACType.json\")"
      ],
      "metadata": {
        "id": "nKCNQxvO1mF7"
      },
      "execution_count": null,
      "outputs": []
    },
    {
      "cell_type": "code",
      "source": [
        "print(missionsPerAircraftType.count())"
      ],
      "metadata": {
        "colab": {
          "base_uri": "https://localhost:8080/"
        },
        "id": "KCjH98L91qnV",
        "outputId": "b60b8a4a-9695-408f-ec4c-de2d31fe8de4"
      },
      "execution_count": null,
      "outputs": [
        {
          "output_type": "stream",
          "name": "stdout",
          "text": [
            "56\n"
          ]
        }
      ]
    },
    {
      "cell_type": "code",
      "source": [
        "Bombing_Operations.createOrReplaceTempView(\"bombing\")\n",
        "Aircraft_Glossary.createOrReplaceTempView(\"aircraft\")\n",
        "\n",
        "query = \"\"\" SELECT AirCraftType, count(*) as NumOperations\n",
        "            FROM bombing b, aircraft a\n",
        "            WHERE b.AirCraft = a.AirCraft\n",
        "            GROUP BY AirCraftType\n",
        "            ORDER BY AirCraftType\n",
        "        \"\"\"\n",
        "\n",
        "spark.sql(query).show()"
      ],
      "metadata": {
        "colab": {
          "base_uri": "https://localhost:8080/"
        },
        "id": "UIiNd2xs1wmU",
        "outputId": "10a1e7dd-e002-4dcd-caff-24d64111aef6"
      },
      "execution_count": null,
      "outputs": [
        {
          "output_type": "stream",
          "name": "stdout",
          "text": [
            "+--------------------+-------------+\n",
            "|        AirCraftType|NumOperations|\n",
            "+--------------------+-------------+\n",
            "|Aerial refuelling...|         8266|\n",
            "|Airborne early wa...|        17226|\n",
            "| Airliner/ Transport|            1|\n",
            "|Airliner/transpor...|          397|\n",
            "|     Attack Aircraft|       315246|\n",
            "|          Bomber Jet|            8|\n",
            "|    Cargo Helicopter|         2571|\n",
            "|    Cargo Prop plane|          176|\n",
            "|Carrier-base all-...|            2|\n",
            "|Carrier-based Ear...|         1498|\n",
            "|Carrier-based Fig...|        58691|\n",
            "|Close -Support He...|         2174|\n",
            "|Close air support...|          921|\n",
            "|Early Warning air...|         1380|\n",
            "|         Fighter Jet|       882594|\n",
            "|  Fighter Jet Bomber|      1073126|\n",
            "|  Fighter Prop Plane|         3882|\n",
            "|  Fighter bomber jet|       242231|\n",
            "|        Fighter jet |        10322|\n",
            "|Fixed wing ground...|        75058|\n",
            "+--------------------+-------------+\n",
            "only showing top 20 rows\n",
            "\n"
          ]
        }
      ]
    },
    {
      "cell_type": "code",
      "source": [
        "Bombing_Operations.createOrReplaceTempView(\"bombing\")\n",
        "Aircraft_Glossary.createOrReplaceTempView(\"aircraft\")\n",
        "\n",
        "query = \"\"\" SELECT bombing.AirCraft, AirCraftName, COUNT(*) AS NUM_OPERATIONS\n",
        "            FROM bombing , aircraft\n",
        "            WHERE bombing.aircraft = aircraft.aircraft AND periodofday = 'D'\n",
        "            GROUP BY bombing.AirCraft, AirCraftName\n",
        "            ORDER BY COUNT(*) DESC\n",
        "        \"\"\"\n",
        "result1 = spark.sql(query)\n"
      ],
      "metadata": {
        "collapsed": true,
        "id": "MEYGusE93caq"
      },
      "execution_count": null,
      "outputs": []
    },
    {
      "cell_type": "code",
      "source": [
        "result1.show()"
      ],
      "metadata": {
        "colab": {
          "base_uri": "https://localhost:8080/"
        },
        "id": "1-fOub3R5zmr",
        "outputId": "d02f91e7-4dba-4934-8fa1-bedd210227e9"
      },
      "execution_count": null,
      "outputs": [
        {
          "output_type": "stream",
          "name": "stdout",
          "text": [
            "+--------+--------------------+--------------+\n",
            "|AirCraft|        AirCraftName|NUM_OPERATIONS|\n",
            "+--------+--------------------+--------------+\n",
            "|     F-4|McDonnell Douglas...|        580796|\n",
            "|   F-100|North American F-...|        381778|\n",
            "|     A-1|Douglas A-1 Skyra...|        296182|\n",
            "|     A-4|McDonnell Douglas...|        272257|\n",
            "|    A-37|Cessna A-37 Drago...|        239086|\n",
            "|    RF-4|McDonnell F-4 Pha...|        182608|\n",
            "|    UH-1|  Bell UH-1 Iroquois|        146238|\n",
            "|   F-105|Republic F-105 Th...|        125196|\n",
            "|     A-7|  LTV A-7 Corsair II|        113391|\n",
            "|     F-8| Vought F-8 Crusader|         82390|\n",
            "|  RF-101|McDonnell F-101 V...|         67816|\n",
            "|     A-6|Grumman A-6 Intruder|         53183|\n",
            "|     O-1| Cessna O-1 Bird Dog|         48104|\n",
            "|   EC-47|Douglas C-47 Skyt...|         44069|\n",
            "|     F-5|       Northrop F-5 |         37117|\n",
            "|    T-28| T-28 Trojan Trainer|         34220|\n",
            "|    B-57|Martin B-57 Canberra|         33767|\n",
            "|     O-2|Cessna O-2 Skymaster|         27053|\n",
            "|    U-17|          Cessna 185|         26639|\n",
            "|   C-130|Lockheed C-130 He...|         22567|\n",
            "+--------+--------------------+--------------+\n",
            "only showing top 20 rows\n",
            "\n"
          ]
        }
      ]
    },
    {
      "cell_type": "code",
      "source": [
        "from pyspark.sql.functions import avg\n",
        "\n",
        "df_q7 = Bombing_Operations.groupBy(\"AirCraft\") .agg(avg(\"WeaponsLoadedWeight\").alias(\"AvgWeaponsLoadedWeight\")) .sort(\"AvgWeaponsLoadedWeight\", ascending=False)\n",
        "\n",
        "df_q7.show()\n"
      ],
      "metadata": {
        "colab": {
          "base_uri": "https://localhost:8080/"
        },
        "id": "Q0ucbbPi90yT",
        "outputId": "12f89ba1-0058-49b9-c19a-a342e462d1a7"
      },
      "execution_count": null,
      "outputs": [
        {
          "output_type": "stream",
          "name": "stdout",
          "text": [
            "+--------+----------------------+\n",
            "|AirCraft|AvgWeaponsLoadedWeight|\n",
            "+--------+----------------------+\n",
            "|    B-52|    232319.64816347125|\n",
            "|    AH-1|    64683.965170278636|\n",
            "|   F-111|    51604.531187319604|\n",
            "|     A-7|    23560.346184239894|\n",
            "|     F-5|     15831.82239555989|\n",
            "|     F-4|    15007.247900176168|\n",
            "|     A-6|    12546.330295087862|\n",
            "|    A-37|      11468.2285227158|\n",
            "|  AC-123|       9507.0559114735|\n",
            "|    UH-1|     7113.977876800666|\n",
            "|     A-1|      6850.50426501682|\n",
            "|   AC-47|    5720.5106238912285|\n",
            "|   OV-10|     5002.150769984886|\n",
            "|   F-105|     4530.625852859483|\n",
            "|     A-4|     4003.648370534218|\n",
            "|    B-57|    3730.4197083399213|\n",
            "|    F-14|                3728.0|\n",
            "|   C-130|     2747.465372314833|\n",
            "|   F-100|    2499.8695370913965|\n",
            "|  AC-119|    2264.7700359359687|\n",
            "+--------+----------------------+\n",
            "only showing top 20 rows\n",
            "\n"
          ]
        }
      ]
    },
    {
      "cell_type": "code",
      "source": [
        "WeaponsLoadedWeight_pd = df_q7.toPandas()\n",
        "WeaponsLoadedWeight_pd.head()"
      ],
      "metadata": {
        "colab": {
          "base_uri": "https://localhost:8080/",
          "height": 206
        },
        "id": "bOhptg3M-PCM",
        "outputId": "036218d8-b250-434a-fa04-b5cc6a0b7256"
      },
      "execution_count": null,
      "outputs": [
        {
          "output_type": "execute_result",
          "data": {
            "text/plain": [
              "  AirCraft  AvgWeaponsLoadedWeight\n",
              "0     B-52           232319.648163\n",
              "1     AH-1            64683.965170\n",
              "2    F-111            51604.531187\n",
              "3      A-7            23560.346184\n",
              "4      F-5            15831.822396"
            ],
            "text/html": [
              "\n",
              "  <div id=\"df-6869db1e-4e06-4dc8-a6db-87a5b90b1f06\" class=\"colab-df-container\">\n",
              "    <div>\n",
              "<style scoped>\n",
              "    .dataframe tbody tr th:only-of-type {\n",
              "        vertical-align: middle;\n",
              "    }\n",
              "\n",
              "    .dataframe tbody tr th {\n",
              "        vertical-align: top;\n",
              "    }\n",
              "\n",
              "    .dataframe thead th {\n",
              "        text-align: right;\n",
              "    }\n",
              "</style>\n",
              "<table border=\"1\" class=\"dataframe\">\n",
              "  <thead>\n",
              "    <tr style=\"text-align: right;\">\n",
              "      <th></th>\n",
              "      <th>AirCraft</th>\n",
              "      <th>AvgWeaponsLoadedWeight</th>\n",
              "    </tr>\n",
              "  </thead>\n",
              "  <tbody>\n",
              "    <tr>\n",
              "      <th>0</th>\n",
              "      <td>B-52</td>\n",
              "      <td>232319.648163</td>\n",
              "    </tr>\n",
              "    <tr>\n",
              "      <th>1</th>\n",
              "      <td>AH-1</td>\n",
              "      <td>64683.965170</td>\n",
              "    </tr>\n",
              "    <tr>\n",
              "      <th>2</th>\n",
              "      <td>F-111</td>\n",
              "      <td>51604.531187</td>\n",
              "    </tr>\n",
              "    <tr>\n",
              "      <th>3</th>\n",
              "      <td>A-7</td>\n",
              "      <td>23560.346184</td>\n",
              "    </tr>\n",
              "    <tr>\n",
              "      <th>4</th>\n",
              "      <td>F-5</td>\n",
              "      <td>15831.822396</td>\n",
              "    </tr>\n",
              "  </tbody>\n",
              "</table>\n",
              "</div>\n",
              "    <div class=\"colab-df-buttons\">\n",
              "\n",
              "  <div class=\"colab-df-container\">\n",
              "    <button class=\"colab-df-convert\" onclick=\"convertToInteractive('df-6869db1e-4e06-4dc8-a6db-87a5b90b1f06')\"\n",
              "            title=\"Convert this dataframe to an interactive table.\"\n",
              "            style=\"display:none;\">\n",
              "\n",
              "  <svg xmlns=\"http://www.w3.org/2000/svg\" height=\"24px\" viewBox=\"0 -960 960 960\">\n",
              "    <path d=\"M120-120v-720h720v720H120Zm60-500h600v-160H180v160Zm220 220h160v-160H400v160Zm0 220h160v-160H400v160ZM180-400h160v-160H180v160Zm440 0h160v-160H620v160ZM180-180h160v-160H180v160Zm440 0h160v-160H620v160Z\"/>\n",
              "  </svg>\n",
              "    </button>\n",
              "\n",
              "  <style>\n",
              "    .colab-df-container {\n",
              "      display:flex;\n",
              "      gap: 12px;\n",
              "    }\n",
              "\n",
              "    .colab-df-convert {\n",
              "      background-color: #E8F0FE;\n",
              "      border: none;\n",
              "      border-radius: 50%;\n",
              "      cursor: pointer;\n",
              "      display: none;\n",
              "      fill: #1967D2;\n",
              "      height: 32px;\n",
              "      padding: 0 0 0 0;\n",
              "      width: 32px;\n",
              "    }\n",
              "\n",
              "    .colab-df-convert:hover {\n",
              "      background-color: #E2EBFA;\n",
              "      box-shadow: 0px 1px 2px rgba(60, 64, 67, 0.3), 0px 1px 3px 1px rgba(60, 64, 67, 0.15);\n",
              "      fill: #174EA6;\n",
              "    }\n",
              "\n",
              "    .colab-df-buttons div {\n",
              "      margin-bottom: 4px;\n",
              "    }\n",
              "\n",
              "    [theme=dark] .colab-df-convert {\n",
              "      background-color: #3B4455;\n",
              "      fill: #D2E3FC;\n",
              "    }\n",
              "\n",
              "    [theme=dark] .colab-df-convert:hover {\n",
              "      background-color: #434B5C;\n",
              "      box-shadow: 0px 1px 3px 1px rgba(0, 0, 0, 0.15);\n",
              "      filter: drop-shadow(0px 1px 2px rgba(0, 0, 0, 0.3));\n",
              "      fill: #FFFFFF;\n",
              "    }\n",
              "  </style>\n",
              "\n",
              "    <script>\n",
              "      const buttonEl =\n",
              "        document.querySelector('#df-6869db1e-4e06-4dc8-a6db-87a5b90b1f06 button.colab-df-convert');\n",
              "      buttonEl.style.display =\n",
              "        google.colab.kernel.accessAllowed ? 'block' : 'none';\n",
              "\n",
              "      async function convertToInteractive(key) {\n",
              "        const element = document.querySelector('#df-6869db1e-4e06-4dc8-a6db-87a5b90b1f06');\n",
              "        const dataTable =\n",
              "          await google.colab.kernel.invokeFunction('convertToInteractive',\n",
              "                                                    [key], {});\n",
              "        if (!dataTable) return;\n",
              "\n",
              "        const docLinkHtml = 'Like what you see? Visit the ' +\n",
              "          '<a target=\"_blank\" href=https://colab.research.google.com/notebooks/data_table.ipynb>data table notebook</a>'\n",
              "          + ' to learn more about interactive tables.';\n",
              "        element.innerHTML = '';\n",
              "        dataTable['output_type'] = 'display_data';\n",
              "        await google.colab.output.renderOutput(dataTable, element);\n",
              "        const docLink = document.createElement('div');\n",
              "        docLink.innerHTML = docLinkHtml;\n",
              "        element.appendChild(docLink);\n",
              "      }\n",
              "    </script>\n",
              "  </div>\n",
              "\n",
              "\n",
              "<div id=\"df-e285861d-4a70-4ae1-af68-262b453ab12a\">\n",
              "  <button class=\"colab-df-quickchart\" onclick=\"quickchart('df-e285861d-4a70-4ae1-af68-262b453ab12a')\"\n",
              "            title=\"Suggest charts\"\n",
              "            style=\"display:none;\">\n",
              "\n",
              "<svg xmlns=\"http://www.w3.org/2000/svg\" height=\"24px\"viewBox=\"0 0 24 24\"\n",
              "     width=\"24px\">\n",
              "    <g>\n",
              "        <path d=\"M19 3H5c-1.1 0-2 .9-2 2v14c0 1.1.9 2 2 2h14c1.1 0 2-.9 2-2V5c0-1.1-.9-2-2-2zM9 17H7v-7h2v7zm4 0h-2V7h2v10zm4 0h-2v-4h2v4z\"/>\n",
              "    </g>\n",
              "</svg>\n",
              "  </button>\n",
              "\n",
              "<style>\n",
              "  .colab-df-quickchart {\n",
              "      --bg-color: #E8F0FE;\n",
              "      --fill-color: #1967D2;\n",
              "      --hover-bg-color: #E2EBFA;\n",
              "      --hover-fill-color: #174EA6;\n",
              "      --disabled-fill-color: #AAA;\n",
              "      --disabled-bg-color: #DDD;\n",
              "  }\n",
              "\n",
              "  [theme=dark] .colab-df-quickchart {\n",
              "      --bg-color: #3B4455;\n",
              "      --fill-color: #D2E3FC;\n",
              "      --hover-bg-color: #434B5C;\n",
              "      --hover-fill-color: #FFFFFF;\n",
              "      --disabled-bg-color: #3B4455;\n",
              "      --disabled-fill-color: #666;\n",
              "  }\n",
              "\n",
              "  .colab-df-quickchart {\n",
              "    background-color: var(--bg-color);\n",
              "    border: none;\n",
              "    border-radius: 50%;\n",
              "    cursor: pointer;\n",
              "    display: none;\n",
              "    fill: var(--fill-color);\n",
              "    height: 32px;\n",
              "    padding: 0;\n",
              "    width: 32px;\n",
              "  }\n",
              "\n",
              "  .colab-df-quickchart:hover {\n",
              "    background-color: var(--hover-bg-color);\n",
              "    box-shadow: 0 1px 2px rgba(60, 64, 67, 0.3), 0 1px 3px 1px rgba(60, 64, 67, 0.15);\n",
              "    fill: var(--button-hover-fill-color);\n",
              "  }\n",
              "\n",
              "  .colab-df-quickchart-complete:disabled,\n",
              "  .colab-df-quickchart-complete:disabled:hover {\n",
              "    background-color: var(--disabled-bg-color);\n",
              "    fill: var(--disabled-fill-color);\n",
              "    box-shadow: none;\n",
              "  }\n",
              "\n",
              "  .colab-df-spinner {\n",
              "    border: 2px solid var(--fill-color);\n",
              "    border-color: transparent;\n",
              "    border-bottom-color: var(--fill-color);\n",
              "    animation:\n",
              "      spin 1s steps(1) infinite;\n",
              "  }\n",
              "\n",
              "  @keyframes spin {\n",
              "    0% {\n",
              "      border-color: transparent;\n",
              "      border-bottom-color: var(--fill-color);\n",
              "      border-left-color: var(--fill-color);\n",
              "    }\n",
              "    20% {\n",
              "      border-color: transparent;\n",
              "      border-left-color: var(--fill-color);\n",
              "      border-top-color: var(--fill-color);\n",
              "    }\n",
              "    30% {\n",
              "      border-color: transparent;\n",
              "      border-left-color: var(--fill-color);\n",
              "      border-top-color: var(--fill-color);\n",
              "      border-right-color: var(--fill-color);\n",
              "    }\n",
              "    40% {\n",
              "      border-color: transparent;\n",
              "      border-right-color: var(--fill-color);\n",
              "      border-top-color: var(--fill-color);\n",
              "    }\n",
              "    60% {\n",
              "      border-color: transparent;\n",
              "      border-right-color: var(--fill-color);\n",
              "    }\n",
              "    80% {\n",
              "      border-color: transparent;\n",
              "      border-right-color: var(--fill-color);\n",
              "      border-bottom-color: var(--fill-color);\n",
              "    }\n",
              "    90% {\n",
              "      border-color: transparent;\n",
              "      border-bottom-color: var(--fill-color);\n",
              "    }\n",
              "  }\n",
              "</style>\n",
              "\n",
              "  <script>\n",
              "    async function quickchart(key) {\n",
              "      const quickchartButtonEl =\n",
              "        document.querySelector('#' + key + ' button');\n",
              "      quickchartButtonEl.disabled = true;  // To prevent multiple clicks.\n",
              "      quickchartButtonEl.classList.add('colab-df-spinner');\n",
              "      try {\n",
              "        const charts = await google.colab.kernel.invokeFunction(\n",
              "            'suggestCharts', [key], {});\n",
              "      } catch (error) {\n",
              "        console.error('Error during call to suggestCharts:', error);\n",
              "      }\n",
              "      quickchartButtonEl.classList.remove('colab-df-spinner');\n",
              "      quickchartButtonEl.classList.add('colab-df-quickchart-complete');\n",
              "    }\n",
              "    (() => {\n",
              "      let quickchartButtonEl =\n",
              "        document.querySelector('#df-e285861d-4a70-4ae1-af68-262b453ab12a button');\n",
              "      quickchartButtonEl.style.display =\n",
              "        google.colab.kernel.accessAllowed ? 'block' : 'none';\n",
              "    })();\n",
              "  </script>\n",
              "</div>\n",
              "\n",
              "    </div>\n",
              "  </div>\n"
            ],
            "application/vnd.google.colaboratory.intrinsic+json": {
              "type": "dataframe",
              "variable_name": "WeaponsLoadedWeight_pd",
              "summary": "{\n  \"name\": \"WeaponsLoadedWeight_pd\",\n  \"rows\": 120,\n  \"fields\": [\n    {\n      \"column\": \"AirCraft\",\n      \"properties\": {\n        \"dtype\": \"string\",\n        \"num_unique_values\": 120,\n        \"samples\": [\n          \"EC-47\",\n          \"U-1A\",\n          \"F-5\"\n        ],\n        \"semantic_type\": \"\",\n        \"description\": \"\"\n      }\n    },\n    {\n      \"column\": \"AvgWeaponsLoadedWeight\",\n      \"properties\": {\n        \"dtype\": \"number\",\n        \"std\": 22541.806230417315,\n        \"min\": -1.0,\n        \"max\": 232319.64816347125,\n        \"num_unique_values\": 71,\n        \"samples\": [\n          861.8223022446285,\n          232319.64816347125,\n          -0.14413610455409062\n        ],\n        \"semantic_type\": \"\",\n        \"description\": \"\"\n      }\n    }\n  ]\n}"
            }
          },
          "metadata": {},
          "execution_count": 69
        }
      ]
    },
    {
      "cell_type": "code",
      "source": [
        "WeaponsLoadedWeight_pd.plot(kind=\"bar\", x=\"AirCraft\", y=\"AvgWeaponsLoadedWeight\")\n",
        "\n"
      ],
      "metadata": {
        "colab": {
          "base_uri": "https://localhost:8080/",
          "height": 537
        },
        "collapsed": true,
        "id": "d4vFjzo_-W3u",
        "outputId": "7d295d03-4ede-46cc-f6d3-85b399ab5bc3"
      },
      "execution_count": null,
      "outputs": [
        {
          "output_type": "execute_result",
          "data": {
            "text/plain": [
              "<Axes: xlabel='AirCraft'>"
            ]
          },
          "metadata": {},
          "execution_count": 76
        },
        {
          "output_type": "display_data",
          "data": {
            "text/plain": [
              "<Figure size 640x480 with 1 Axes>"
            ],
            "image/png": "[encoded data removed]"
          },
          "metadata": {}
        }
      ]
    },
    {
      "cell_type": "code",
      "source": [
        "print(WeaponsLoadedWeight_pd.dtypes)\n"
      ],
      "metadata": {
        "colab": {
          "base_uri": "https://localhost:8080/"
        },
        "id": "SE0n0Fu7_32r",
        "outputId": "a324099b-a0bc-41eb-8625-0a6bd121b080"
      },
      "execution_count": null,
      "outputs": [
        {
          "output_type": "stream",
          "name": "stdout",
          "text": [
            "AirCraft                   object\n",
            "AvgWeaponsLoadedWeight    float64\n",
            "dtype: object\n"
          ]
        }
      ]
    }
  ]
}