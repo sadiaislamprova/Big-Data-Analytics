{
  "nbformat": 4,
  "nbformat_minor": 0,
  "metadata": {
    "colab": {
      "provenance": []
    },
    "kernelspec": {
      "name": "python3",
      "display_name": "Python 3"
    },
    "language_info": {
      "name": "python"
    }
  },
  "cells": [
    {
      "cell_type": "markdown",
      "source": [
        "**Task 01**\n",
        "\n",
        "\n",
        "\n"
      ],
      "metadata": {
        "id": "vTjhptGsvzsd"
      }
    },
    {
      "cell_type": "code",
      "execution_count": null,
      "metadata": {
        "colab": {
          "base_uri": "https://localhost:8080/"
        },
        "id": "y9IYHAMvvql9",
        "outputId": "6da47379-5e5d-4566-a96b-19a578abf8c7"
      },
      "outputs": [
        {
          "output_type": "stream",
          "name": "stdout",
          "text": [
            "Final Result: [12, 21, 18, 24, 27, 36]\n"
          ]
        }
      ],
      "source": [
        "# Creating an RDD from a list of integers\n",
        "data_task_1 = [4, 7, 6, 2, 8, 9, 12, 3, 1]\n",
        "rdd_task_1 = sc.parallelize(data_task_1)\n",
        "\n",
        "# Multipling each number by 3 using map\n",
        "mapped_rdd_task_1 = rdd_task_1.map(lambda x: x * 3)\n",
        "\n",
        "# Filtiring the result greater than 10 using filter\n",
        "filtered_rdd_task_1 = mapped_rdd_task_1.filter(lambda x: x > 10)\n",
        "\n",
        "rdd_task_1_Prova = filtered_rdd_task_1.collect()\n",
        "print(\"Final Result:\", rdd_task_1_Prova)\n",
        "\n",
        "#rdd_Task_01_Prova"
      ]
    },
    {
      "cell_type": "markdown",
      "source": [
        "**Task 02**"
      ],
      "metadata": {
        "id": "ktAYn4zDwjg4"
      }
    },
    {
      "cell_type": "code",
      "source": [
        "\n",
        "text_rdd = sc.textFile(\"/content/task_02.txt\")\n",
        "\n",
        "# Split lines into words and count\n",
        "words_rdd = text_rdd.flatMap(lambda line: line.split(\" \"))\n",
        "word_count_prova = words_rdd.count()\n",
        "print(word_count_prova)\n",
        "\n",
        "#rdd_Task_02_Prova\n"
      ],
      "metadata": {
        "colab": {
          "base_uri": "https://localhost:8080/"
        },
        "id": "lxZMHaid0QJr",
        "outputId": "905cd212-adfd-4781-fd46-5c04bd1a265f"
      },
      "execution_count": null,
      "outputs": [
        {
          "output_type": "stream",
          "name": "stdout",
          "text": [
            "96\n"
          ]
        }
      ]
    },
    {
      "cell_type": "markdown",
      "source": [
        "**Task 03**"
      ],
      "metadata": {
        "id": "KDd4uNaX0nCL"
      }
    },
    {
      "cell_type": "code",
      "source": [
        "# Create RDD with pairs of student names and their scores\n",
        "student_scores = sc.parallelize([(\"Alice\", 85), (\"Bob\", 90), (\"Alice\", 95)])\n",
        "\n",
        "# Group scores by student\n",
        "grouped_scores = student_scores.groupByKey().mapValues(list)\n",
        "print(grouped_scores.collect())\n",
        "\n",
        "# Calculate the total score for each student\n",
        "total_scores = student_scores.reduceByKey(lambda x, y: x + y)\n",
        "print(total_scores.collect())\n",
        "\n",
        "#rdd_Task_03_Prova"
      ],
      "metadata": {
        "colab": {
          "base_uri": "https://localhost:8080/"
        },
        "id": "qWhhGhVy0msJ",
        "outputId": "fc0a4936-2a3e-47b9-b0b6-b6ad88e05266"
      },
      "execution_count": null,
      "outputs": [
        {
          "output_type": "stream",
          "name": "stdout",
          "text": [
            "[('Alice', [85, 95]), ('Bob', [90])]\n",
            "[('Alice', 180), ('Bob', 90)]\n"
          ]
        }
      ]
    },
    {
      "cell_type": "markdown",
      "source": [
        "**Task 04**"
      ],
      "metadata": {
        "id": "iqdL-Oy31TTf"
      }
    },
    {
      "cell_type": "code",
      "source": [
        "import time\n",
        "\n",
        "# Create a large RDD\n",
        "large_rdd_prova = sc.parallelize(range(1, 1000001))\n",
        "\n",
        "# Measure time without caching\n",
        "start_time = time.time()\n",
        "print(large_rdd_prova.count())\n",
        "print(large_rdd_prova.sum())\n",
        "print(f\"Execution time without cache: {time.time() - start_time} seconds\")\n",
        "\n",
        "# Measure time with caching\n",
        "large_rdd_prova.cache()\n",
        "start_time = time.time()\n",
        "print(large_rdd_prova.count())\n",
        "print(large_rdd_prova.sum())\n",
        "print(f\"Execution time with cache: {time.time() - start_time} seconds\")\n",
        "\n",
        "#rdd_Task_04_Prova"
      ],
      "metadata": {
        "colab": {
          "base_uri": "https://localhost:8080/"
        },
        "id": "btMKzpzh1ivu",
        "outputId": "f878d470-a9ce-440c-ddb8-065228b66c82"
      },
      "execution_count": null,
      "outputs": [
        {
          "output_type": "stream",
          "name": "stdout",
          "text": [
            "1000000\n",
            "500000500000\n",
            "Execution time without cache: 0.7788844108581543 seconds\n",
            "1000000\n",
            "500000500000\n",
            "Execution time with cache: 1.1660594940185547 seconds\n"
          ]
        }
      ]
    },
    {
      "cell_type": "markdown",
      "source": [
        "**Task 05**"
      ],
      "metadata": {
        "id": "bqp_J3wk11iq"
      }
    },
    {
      "cell_type": "code",
      "source": [
        "def is_prime(n):\n",
        "    if n <= 1:\n",
        "        return False\n",
        "    for i in range(2, int(n ** 0.5) + 1):\n",
        "        if n % i == 0:\n",
        "            return False\n",
        "    return True\n",
        "\n",
        "# Create RDD\n",
        "numbers = sc.parallelize(range(1, 100))\n",
        "\n",
        "# Filter to keep only prime numbers\n",
        "prime_numbers_rdd_prova = numbers.filter(lambda x: is_prime(x))\n",
        "\n",
        "# Collect and print the prime numbers\n",
        "print(prime_numbers_rdd_prova.collect())\n",
        "\n",
        "#rdd_Task_05_Prova"
      ],
      "metadata": {
        "colab": {
          "base_uri": "https://localhost:8080/"
        },
        "id": "1ducIOrE1xSy",
        "outputId": "fad53209-1e15-4cf9-ffed-c7e3325de7c9"
      },
      "execution_count": null,
      "outputs": [
        {
          "output_type": "stream",
          "name": "stdout",
          "text": [
            "[2, 3, 5, 7, 11, 13, 17, 19, 23, 29, 31, 37, 41, 43, 47, 53, 59, 61, 67, 71, 73, 79, 83, 89, 97]\n"
          ]
        }
      ]
    },
    {
      "cell_type": "markdown",
      "source": [
        "**Task 06**"
      ],
      "metadata": {
        "id": "zCXPw-z72RmM"
      }
    },
    {
      "cell_type": "code",
      "source": [
        "# Read products from the text file\n",
        "products = sc.textFile(\"/content/task_06.txt\")\n",
        "\n",
        "# Skip the header row (assuming the first row is the header)\n",
        "header = products.first()\n",
        "products_without_header = products.filter(lambda line: line != header)\n",
        "\n",
        "# Parse each line into a tuple (Product, Category, Price)\n",
        "parsed_products = products_without_header.map(lambda line: line.split(\",\")) \\\n",
        "                          .map(lambda x: (x[0], x[1], float(x[2])))\n",
        "\n",
        "# Filter products with price greater than 100\n",
        "filtered_products = parsed_products.filter(lambda x: x[2] > 100)\n",
        "\n",
        "# Get product names\n",
        "product_names = filtered_products.map(lambda x: x[0])\n",
        "print(\"Products with price > 100:\", product_names.collect())\n",
        "\n",
        "# Count the number of products in each category\n",
        "category_counts = parsed_products.map(lambda x: (x[1], 1)) \\\n",
        "                                 .reduceByKey(lambda x, y: x + y)\n",
        "print(\"Product count in each category:\", category_counts.collect())\n",
        "\n",
        "#rdd_Task_06_Prova"
      ],
      "metadata": {
        "colab": {
          "base_uri": "https://localhost:8080/"
        },
        "collapsed": true,
        "id": "knYS_ZJa2jHt",
        "outputId": "173611f9-ff3a-4719-85d4-f1946fe53301"
      },
      "execution_count": null,
      "outputs": [
        {
          "output_type": "stream",
          "name": "stdout",
          "text": [
            "Products with price > 100: ['Laptop', 'Phone']\n",
            "Product count in each category: [('Electronics', 2), ('Clothing', 1)]\n"
          ]
        }
      ]
    },
    {
      "cell_type": "markdown",
      "source": [
        "**Task 07**"
      ],
      "metadata": {
        "id": "UI8F9dwu3piT"
      }
    },
    {
      "cell_type": "code",
      "source": [
        "from pyspark.sql import SparkSession\n",
        "\n",
        "# Initialize Spark Session\n",
        "spark = SparkSession.builder.appName(\"Spark SQL\").getOrCreate()\n",
        "\n",
        "# Load JSON dataset\n",
        "students = spark.read.option(\"multiline\", \"true\").json(\"/content/task_07.json\")\n",
        "\n",
        "# Register as a temporary SQL table\n",
        "students.createOrReplaceTempView(\"students\")\n",
        "\n",
        "# Query students with grade \"A\"\n",
        "grade_a_students = spark.sql(\"SELECT * FROM students WHERE grade = 'A'\")\n",
        "grade_a_students.show()\n",
        "\n",
        "# Save result to a new JSON file, overwriting if it already exists\n",
        "grade_a_students.write.mode(\"overwrite\").json(\"grade_a_students.json\")\n",
        "\n",
        "#rdd_Task_07_Prova"
      ],
      "metadata": {
        "colab": {
          "base_uri": "https://localhost:8080/"
        },
        "id": "PB7DQnNC31Kr",
        "outputId": "819ee1a8-3e90-48dd-f640-50a9748924c5"
      },
      "execution_count": null,
      "outputs": [
        {
          "output_type": "stream",
          "name": "stdout",
          "text": [
            "+---+-----+-----+\n",
            "|age|grade| name|\n",
            "+---+-----+-----+\n",
            "| 20|    A|Alice|\n",
            "+---+-----+-----+\n",
            "\n"
          ]
        }
      ]
    },
    {
      "cell_type": "markdown",
      "source": [
        "Task 08"
      ],
      "metadata": {
        "id": "5Rpf1bRQ6VZX"
      }
    },
    {
      "cell_type": "code",
      "source": [
        "# Read text file\n",
        "text_rdd = sc.textFile(\"/content/task_02.txt\")\n",
        "\n",
        "# Perform word count\n",
        "word_counts = text_rdd.flatMap(lambda line: line.split(\" \")) \\\n",
        "                      .map(lambda word: (word, 1)) \\\n",
        "                      .reduceByKey(lambda x, y: x + y)\n",
        "\n",
        "# Sort words by frequency in descending order\n",
        "sorted_word_counts = word_counts.sortBy(lambda x: x[1], ascending=False)\n",
        "\n",
        "# Display the top 5 most frequent words\n",
        "print(sorted_word_counts.take(5))\n",
        "\n",
        "#rdd_Task_08_Prova"
      ],
      "metadata": {
        "colab": {
          "base_uri": "https://localhost:8080/"
        },
        "id": "FsQa0_fJ59Pu",
        "outputId": "7feea730-583f-4845-ac65-52be104e8bc8"
      },
      "execution_count": null,
      "outputs": [
        {
          "output_type": "stream",
          "name": "stdout",
          "text": [
            "[('data', 7), ('Spark', 5), ('is', 4), ('for', 3), ('and', 3)]\n"
          ]
        }
      ]
    },
    {
      "cell_type": "markdown",
      "source": [
        "**Task 09**"
      ],
      "metadata": {
        "id": "ccglU0-f6rGe"
      }
    },
    {
      "cell_type": "code",
      "source": [
        "# Create RDD with city-temperature pairs\n",
        "city_temps = sc.parallelize([(\"NY\", 32), (\"LA\", 75), (\"NY\", 28)])\n",
        "\n",
        "# Calculate the average temperature for each city\n",
        "avg_temps = city_temps.aggregateByKey((0, 0),\n",
        "                                      lambda acc, value: (acc[0] + value, acc[1] + 1),\n",
        "                                      lambda acc1, acc2: (acc1[0] + acc2[0], acc1[1] + acc2[1])) \\\n",
        "                     .mapValues(lambda x: x[0] / x[1])\n",
        "print(avg_temps.collect())\n",
        "\n",
        "#rdd_Task_09_Prova\n"
      ],
      "metadata": {
        "colab": {
          "base_uri": "https://localhost:8080/"
        },
        "id": "Uhe7NwQN6oW5",
        "outputId": "929a35ca-f7e4-4e3d-8c04-04830a4b2a86"
      },
      "execution_count": null,
      "outputs": [
        {
          "output_type": "stream",
          "name": "stdout",
          "text": [
            "[('NY', 30.0), ('LA', 75.0)]\n"
          ]
        }
      ]
    }
  ]
}